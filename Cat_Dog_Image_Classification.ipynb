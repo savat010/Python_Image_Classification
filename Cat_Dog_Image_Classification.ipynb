{
 "cells": [
  {
   "cell_type": "markdown",
   "id": "26d240c5",
   "metadata": {
    "papermill": {
     "duration": 0.021724,
     "end_time": "2022-03-30T20:39:54.927298",
     "exception": false,
     "start_time": "2022-03-30T20:39:54.905574",
     "status": "completed"
    },
    "tags": []
   },
   "source": [
    "# Cat vs Dog Image Classification\n",
    "\n",
    "This notebook was created for [this](https://www.kaggle.com/competitions/dogs-vs-cats-redux-kernels-edition/overview) expired Kaggle competition which aimed to classify cat and dog images.\n",
    "\n",
    "\n",
    "In order to classify the images, I built two different models. \n",
    "\n",
    "* Typical CNN model: \n",
    "    * I built a typical model with Convolution layers and two hidden layer. This did not produce high accuracies, so I decided to build a pre-trained model instead.\n",
    "* Xception model:\n",
    "    * This produced better accuracies, so I used this model as my final submission to the Kaggle competition"
   ]
  },
  {
   "cell_type": "markdown",
   "id": "5fe844d3",
   "metadata": {
    "papermill": {
     "duration": 0.020479,
     "end_time": "2022-03-30T20:39:54.969266",
     "exception": false,
     "start_time": "2022-03-30T20:39:54.948787",
     "status": "completed"
    },
    "tags": []
   },
   "source": [
    "## Typical CNN Model"
   ]
  },
  {
   "cell_type": "code",
   "execution_count": 1,
   "id": "786c21e2",
   "metadata": {
    "execution": {
     "iopub.execute_input": "2022-03-30T20:39:55.016923Z",
     "iopub.status.busy": "2022-03-30T20:39:55.015134Z",
     "iopub.status.idle": "2022-03-30T20:40:02.245798Z",
     "shell.execute_reply": "2022-03-30T20:40:02.244965Z",
     "shell.execute_reply.started": "2022-03-30T14:46:14.731785Z"
    },
    "papermill": {
     "duration": 7.256216,
     "end_time": "2022-03-30T20:40:02.245979",
     "exception": false,
     "start_time": "2022-03-30T20:39:54.989763",
     "status": "completed"
    },
    "tags": []
   },
   "outputs": [],
   "source": [
    "import numpy as np\n",
    "import pandas as pd\n",
    "\n",
    "# for importing the data\n",
    "import os\n",
    "from zipfile import ZipFile\n",
    "import matplotlib.pyplot as plt\n",
    "from keras.preprocessing.image import ImageDataGenerator\n",
    "\n",
    "# For Building Model\n",
    "import keras\n",
    "from tensorflow.keras.models import Sequential\n",
    "from tensorflow.keras.layers import Dense, Activation, Conv2D, MaxPooling2D, Flatten, BatchNormalization, Dropout\n",
    "\n",
    "# For Callbacks\n",
    "from tensorflow.keras.callbacks import EarlyStopping, ReduceLROnPlateau\n",
    "\n",
    "# For Prepare Training & Validating data\n",
    "from sklearn.model_selection import train_test_split\n",
    "\n",
    "# For Data Augmentation\n",
    "from keras.preprocessing.image import ImageDataGenerator\n",
    "from tensorflow.keras.preprocessing import image"
   ]
  },
  {
   "cell_type": "markdown",
   "id": "a8dc4ae3",
   "metadata": {
    "papermill": {
     "duration": 0.020372,
     "end_time": "2022-03-30T20:40:02.287255",
     "exception": false,
     "start_time": "2022-03-30T20:40:02.266883",
     "status": "completed"
    },
    "tags": []
   },
   "source": [
    "## Import and Format Data\n",
    "\n",
    "To import and format the data, I took the following steps.\n",
    "1. Imported the data\n",
    "2. Split the training set into a training and validation set\n",
    "3. Formated the data\n",
    "    - Scaled\n",
    "    - Sized\n",
    "\n",
    "To complete these steps, I took inspiration from [this site.](https://www.kaggle.com/code/hebaatef/dogs-vs-cats-classification-using-keras-cnn#8.-Prepare-Testing-Data)"
   ]
  },
  {
   "cell_type": "markdown",
   "id": "61369191",
   "metadata": {
    "papermill": {
     "duration": 0.020617,
     "end_time": "2022-03-30T20:40:02.328589",
     "exception": false,
     "start_time": "2022-03-30T20:40:02.307972",
     "status": "completed"
    },
    "tags": []
   },
   "source": [
    "### Import Data"
   ]
  },
  {
   "cell_type": "code",
   "execution_count": 2,
   "id": "50a0c76a",
   "metadata": {
    "execution": {
     "iopub.execute_input": "2022-03-30T20:40:02.372775Z",
     "iopub.status.busy": "2022-03-30T20:40:02.372169Z",
     "iopub.status.idle": "2022-03-30T20:40:02.379945Z",
     "shell.execute_reply": "2022-03-30T20:40:02.378938Z",
     "shell.execute_reply.started": "2022-03-30T14:49:13.502897Z"
    },
    "papermill": {
     "duration": 0.030958,
     "end_time": "2022-03-30T20:40:02.380157",
     "exception": false,
     "start_time": "2022-03-30T20:40:02.349199",
     "status": "completed"
    },
    "tags": []
   },
   "outputs": [
    {
     "name": "stdout",
     "output_type": "stream",
     "text": [
      "/kaggle/input/dogs-vs-cats-redux-kernels-edition/sample_submission.csv\n",
      "/kaggle/input/dogs-vs-cats-redux-kernels-edition/train.zip\n",
      "/kaggle/input/dogs-vs-cats-redux-kernels-edition/test.zip\n"
     ]
    }
   ],
   "source": [
    "# list all files under current directory\n",
    "for dirname, _, filenames in os.walk('/kaggle/input'):\n",
    "    for filename in filenames:\n",
    "        print(os.path.join(dirname, filename))"
   ]
  },
  {
   "cell_type": "code",
   "execution_count": 3,
   "id": "92a7b46d",
   "metadata": {
    "execution": {
     "iopub.execute_input": "2022-03-30T20:40:02.427161Z",
     "iopub.status.busy": "2022-03-30T20:40:02.426468Z",
     "iopub.status.idle": "2022-03-30T20:40:15.708226Z",
     "shell.execute_reply": "2022-03-30T20:40:15.707300Z",
     "shell.execute_reply.started": "2022-03-30T02:20:47.266125Z"
    },
    "papermill": {
     "duration": 13.305645,
     "end_time": "2022-03-30T20:40:15.708457",
     "exception": false,
     "start_time": "2022-03-30T20:40:02.402812",
     "status": "completed"
    },
    "tags": []
   },
   "outputs": [],
   "source": [
    "ZipFile(\"/kaggle/input/dogs-vs-cats-redux-kernels-edition/train.zip\").extractall()"
   ]
  },
  {
   "cell_type": "code",
   "execution_count": 4,
   "id": "420413bd",
   "metadata": {
    "execution": {
     "iopub.execute_input": "2022-03-30T20:40:15.779898Z",
     "iopub.status.busy": "2022-03-30T20:40:15.779076Z",
     "iopub.status.idle": "2022-03-30T20:40:22.021507Z",
     "shell.execute_reply": "2022-03-30T20:40:22.020924Z",
     "shell.execute_reply.started": "2022-03-30T14:48:42.413077Z"
    },
    "papermill": {
     "duration": 6.280979,
     "end_time": "2022-03-30T20:40:22.021656",
     "exception": false,
     "start_time": "2022-03-30T20:40:15.740677",
     "status": "completed"
    },
    "tags": []
   },
   "outputs": [],
   "source": [
    "ZipFile(\"/kaggle/input/dogs-vs-cats-redux-kernels-edition/test.zip\").extractall()"
   ]
  },
  {
   "cell_type": "code",
   "execution_count": 5,
   "id": "aa3df4da",
   "metadata": {
    "execution": {
     "iopub.execute_input": "2022-03-30T20:40:22.067063Z",
     "iopub.status.busy": "2022-03-30T20:40:22.066393Z",
     "iopub.status.idle": "2022-03-30T20:40:22.135829Z",
     "shell.execute_reply": "2022-03-30T20:40:22.136364Z"
    },
    "papermill": {
     "duration": 0.093867,
     "end_time": "2022-03-30T20:40:22.136532",
     "exception": false,
     "start_time": "2022-03-30T20:40:22.042665",
     "status": "completed"
    },
    "tags": []
   },
   "outputs": [
    {
     "data": {
      "text/html": [
       "<div>\n",
       "<style scoped>\n",
       "    .dataframe tbody tr th:only-of-type {\n",
       "        vertical-align: middle;\n",
       "    }\n",
       "\n",
       "    .dataframe tbody tr th {\n",
       "        vertical-align: top;\n",
       "    }\n",
       "\n",
       "    .dataframe thead th {\n",
       "        text-align: right;\n",
       "    }\n",
       "</style>\n",
       "<table border=\"1\" class=\"dataframe\">\n",
       "  <thead>\n",
       "    <tr style=\"text-align: right;\">\n",
       "      <th></th>\n",
       "      <th>filename</th>\n",
       "      <th>category</th>\n",
       "    </tr>\n",
       "  </thead>\n",
       "  <tbody>\n",
       "    <tr>\n",
       "      <th>0</th>\n",
       "      <td>dog.3038.jpg</td>\n",
       "      <td>dog</td>\n",
       "    </tr>\n",
       "    <tr>\n",
       "      <th>1</th>\n",
       "      <td>dog.9734.jpg</td>\n",
       "      <td>dog</td>\n",
       "    </tr>\n",
       "    <tr>\n",
       "      <th>2</th>\n",
       "      <td>cat.114.jpg</td>\n",
       "      <td>cat</td>\n",
       "    </tr>\n",
       "    <tr>\n",
       "      <th>3</th>\n",
       "      <td>dog.9417.jpg</td>\n",
       "      <td>dog</td>\n",
       "    </tr>\n",
       "    <tr>\n",
       "      <th>4</th>\n",
       "      <td>dog.1960.jpg</td>\n",
       "      <td>dog</td>\n",
       "    </tr>\n",
       "  </tbody>\n",
       "</table>\n",
       "</div>"
      ],
      "text/plain": [
       "       filename category\n",
       "0  dog.3038.jpg      dog\n",
       "1  dog.9734.jpg      dog\n",
       "2   cat.114.jpg      cat\n",
       "3  dog.9417.jpg      dog\n",
       "4  dog.1960.jpg      dog"
      ]
     },
     "execution_count": 5,
     "metadata": {},
     "output_type": "execute_result"
    }
   ],
   "source": [
    "# importing training data and assigning categories\n",
    "train_files = os.listdir(\"./train\")\n",
    "train_categories = []\n",
    "\n",
    "for file in train_files:\n",
    "    category = file.split('.')[0]\n",
    "    \n",
    "    if category == \"dog\":\n",
    "        train_categories.append(1)\n",
    "    else:\n",
    "        train_categories.append(0)\n",
    "        \n",
    "df = pd.DataFrame({\n",
    "    'filename': train_files,\n",
    "    'category': train_categories\n",
    "})\n",
    "\n",
    "df['category'] = df['category'].replace({0:'cat', 1:'dog'})\n",
    "df.head()"
   ]
  },
  {
   "cell_type": "markdown",
   "id": "58783d4a",
   "metadata": {
    "papermill": {
     "duration": 0.021401,
     "end_time": "2022-03-30T20:40:22.180008",
     "exception": false,
     "start_time": "2022-03-30T20:40:22.158607",
     "status": "completed"
    },
    "tags": []
   },
   "source": [
    "### Split into Training and Validation Sets"
   ]
  },
  {
   "cell_type": "code",
   "execution_count": 6,
   "id": "ceb89a3c",
   "metadata": {
    "execution": {
     "iopub.execute_input": "2022-03-30T20:40:22.228549Z",
     "iopub.status.busy": "2022-03-30T20:40:22.227827Z",
     "iopub.status.idle": "2022-03-30T20:40:22.247677Z",
     "shell.execute_reply": "2022-03-30T20:40:22.247164Z"
    },
    "papermill": {
     "duration": 0.046282,
     "end_time": "2022-03-30T20:40:22.247814",
     "exception": false,
     "start_time": "2022-03-30T20:40:22.201532",
     "status": "completed"
    },
    "tags": []
   },
   "outputs": [
    {
     "data": {
      "text/html": [
       "<div>\n",
       "<style scoped>\n",
       "    .dataframe tbody tr th:only-of-type {\n",
       "        vertical-align: middle;\n",
       "    }\n",
       "\n",
       "    .dataframe tbody tr th {\n",
       "        vertical-align: top;\n",
       "    }\n",
       "\n",
       "    .dataframe thead th {\n",
       "        text-align: right;\n",
       "    }\n",
       "</style>\n",
       "<table border=\"1\" class=\"dataframe\">\n",
       "  <thead>\n",
       "    <tr style=\"text-align: right;\">\n",
       "      <th></th>\n",
       "      <th>filename</th>\n",
       "      <th>category</th>\n",
       "    </tr>\n",
       "  </thead>\n",
       "  <tbody>\n",
       "    <tr>\n",
       "      <th>0</th>\n",
       "      <td>cat.9131.jpg</td>\n",
       "      <td>cat</td>\n",
       "    </tr>\n",
       "    <tr>\n",
       "      <th>1</th>\n",
       "      <td>dog.6553.jpg</td>\n",
       "      <td>dog</td>\n",
       "    </tr>\n",
       "    <tr>\n",
       "      <th>2</th>\n",
       "      <td>dog.4576.jpg</td>\n",
       "      <td>dog</td>\n",
       "    </tr>\n",
       "    <tr>\n",
       "      <th>3</th>\n",
       "      <td>dog.129.jpg</td>\n",
       "      <td>dog</td>\n",
       "    </tr>\n",
       "    <tr>\n",
       "      <th>4</th>\n",
       "      <td>cat.2064.jpg</td>\n",
       "      <td>cat</td>\n",
       "    </tr>\n",
       "    <tr>\n",
       "      <th>...</th>\n",
       "      <td>...</td>\n",
       "      <td>...</td>\n",
       "    </tr>\n",
       "    <tr>\n",
       "      <th>19995</th>\n",
       "      <td>cat.915.jpg</td>\n",
       "      <td>cat</td>\n",
       "    </tr>\n",
       "    <tr>\n",
       "      <th>19996</th>\n",
       "      <td>dog.1275.jpg</td>\n",
       "      <td>dog</td>\n",
       "    </tr>\n",
       "    <tr>\n",
       "      <th>19997</th>\n",
       "      <td>cat.1011.jpg</td>\n",
       "      <td>cat</td>\n",
       "    </tr>\n",
       "    <tr>\n",
       "      <th>19998</th>\n",
       "      <td>cat.11762.jpg</td>\n",
       "      <td>cat</td>\n",
       "    </tr>\n",
       "    <tr>\n",
       "      <th>19999</th>\n",
       "      <td>cat.10306.jpg</td>\n",
       "      <td>cat</td>\n",
       "    </tr>\n",
       "  </tbody>\n",
       "</table>\n",
       "<p>20000 rows × 2 columns</p>\n",
       "</div>"
      ],
      "text/plain": [
       "            filename category\n",
       "0       cat.9131.jpg      cat\n",
       "1       dog.6553.jpg      dog\n",
       "2       dog.4576.jpg      dog\n",
       "3        dog.129.jpg      dog\n",
       "4       cat.2064.jpg      cat\n",
       "...              ...      ...\n",
       "19995    cat.915.jpg      cat\n",
       "19996   dog.1275.jpg      dog\n",
       "19997   cat.1011.jpg      cat\n",
       "19998  cat.11762.jpg      cat\n",
       "19999  cat.10306.jpg      cat\n",
       "\n",
       "[20000 rows x 2 columns]"
      ]
     },
     "execution_count": 6,
     "metadata": {},
     "output_type": "execute_result"
    }
   ],
   "source": [
    "# split train data frame into training and validation sets\n",
    "train_df, validate_df = train_test_split(df, test_size=0.20, random_state=42)\n",
    "train_df = train_df.reset_index(drop=True)\n",
    "validate_df = validate_df.reset_index(drop=True)\n",
    "\n",
    "train_df"
   ]
  },
  {
   "cell_type": "markdown",
   "id": "5e655000",
   "metadata": {
    "papermill": {
     "duration": 0.023278,
     "end_time": "2022-03-30T20:40:22.293622",
     "exception": false,
     "start_time": "2022-03-30T20:40:22.270344",
     "status": "completed"
    },
    "tags": []
   },
   "source": [
    "### Format Data\n",
    "\n",
    "* Scaled: To format the training and validation data, I scaled the pixels so that they are between 0 and 1.\n",
    "\n",
    "* Sized: I sized the training and validation data to tensors that are 150x150, using 3 tensors for Red, Green, and Blue."
   ]
  },
  {
   "cell_type": "code",
   "execution_count": 7,
   "id": "6c024c45",
   "metadata": {
    "execution": {
     "iopub.execute_input": "2022-03-30T20:40:22.352865Z",
     "iopub.status.busy": "2022-03-30T20:40:22.351899Z",
     "iopub.status.idle": "2022-03-30T20:40:22.601157Z",
     "shell.execute_reply": "2022-03-30T20:40:22.600325Z"
    },
    "papermill": {
     "duration": 0.280856,
     "end_time": "2022-03-30T20:40:22.601331",
     "exception": false,
     "start_time": "2022-03-30T20:40:22.320475",
     "status": "completed"
    },
    "tags": []
   },
   "outputs": [
    {
     "name": "stdout",
     "output_type": "stream",
     "text": [
      "Found 20000 validated image filenames belonging to 2 classes.\n"
     ]
    }
   ],
   "source": [
    "IMAGE_HEIGHT = 150\n",
    "IMAGE_WIDTH = 150\n",
    "IMAGE_CHANNEL = 3\n",
    "batch_size = 50\n",
    "\n",
    "# scale training data\n",
    "train_datagen = ImageDataGenerator(rescale=1./255)\n",
    "\n",
    "# size training data\n",
    "train_generator = train_datagen.flow_from_dataframe(\n",
    "    train_df,\n",
    "    \"./train\",\n",
    "    x_col='filename',\n",
    "    y_col='category',\n",
    "    target_size=(IMAGE_HEIGHT, IMAGE_WIDTH),\n",
    "    class_mode='binary',\n",
    "    batch_size=batch_size\n",
    "    \n",
    ")"
   ]
  },
  {
   "cell_type": "code",
   "execution_count": 8,
   "id": "fc75d7a2",
   "metadata": {
    "execution": {
     "iopub.execute_input": "2022-03-30T20:40:24.624315Z",
     "iopub.status.busy": "2022-03-30T20:40:24.623678Z",
     "iopub.status.idle": "2022-03-30T20:40:24.628220Z",
     "shell.execute_reply": "2022-03-30T20:40:24.628802Z"
    },
    "papermill": {
     "duration": 0.031507,
     "end_time": "2022-03-30T20:40:24.628967",
     "exception": false,
     "start_time": "2022-03-30T20:40:24.597460",
     "status": "completed"
    },
    "tags": []
   },
   "outputs": [
    {
     "data": {
      "text/plain": [
       "{'cat': 0, 'dog': 1}"
      ]
     },
     "execution_count": 8,
     "metadata": {},
     "output_type": "execute_result"
    }
   ],
   "source": [
    "train_generator.class_indices"
   ]
  },
  {
   "cell_type": "code",
   "execution_count": 9,
   "id": "636ddce0",
   "metadata": {
    "execution": {
     "iopub.execute_input": "2022-03-30T20:40:24.678836Z",
     "iopub.status.busy": "2022-03-30T20:40:24.678209Z",
     "iopub.status.idle": "2022-03-30T20:40:24.745395Z",
     "shell.execute_reply": "2022-03-30T20:40:24.744727Z"
    },
    "papermill": {
     "duration": 0.093142,
     "end_time": "2022-03-30T20:40:24.745545",
     "exception": false,
     "start_time": "2022-03-30T20:40:24.652403",
     "status": "completed"
    },
    "tags": []
   },
   "outputs": [
    {
     "name": "stdout",
     "output_type": "stream",
     "text": [
      "Found 5000 validated image filenames belonging to 2 classes.\n"
     ]
    }
   ],
   "source": [
    "# scale validation data\n",
    "validate_datagen = ImageDataGenerator(rescale=1./255)\n",
    "\n",
    "# size validation data\n",
    "validate_generator = validate_datagen.flow_from_dataframe(\n",
    "    validate_df,\n",
    "    \"./train\",\n",
    "    x_col='filename',\n",
    "    y_col='category',\n",
    "    target_size=(IMAGE_HEIGHT, IMAGE_WIDTH),\n",
    "    class_mode='binary',\n",
    "    batch_size=batch_size\n",
    ")"
   ]
  },
  {
   "cell_type": "code",
   "execution_count": 10,
   "id": "95dbe497",
   "metadata": {
    "execution": {
     "iopub.execute_input": "2022-03-30T20:40:24.800498Z",
     "iopub.status.busy": "2022-03-30T20:40:24.799708Z",
     "iopub.status.idle": "2022-03-30T20:40:24.802892Z",
     "shell.execute_reply": "2022-03-30T20:40:24.803391Z"
    },
    "papermill": {
     "duration": 0.033242,
     "end_time": "2022-03-30T20:40:24.803551",
     "exception": false,
     "start_time": "2022-03-30T20:40:24.770309",
     "status": "completed"
    },
    "tags": []
   },
   "outputs": [
    {
     "data": {
      "text/plain": [
       "{'cat': 0, 'dog': 1}"
      ]
     },
     "execution_count": 10,
     "metadata": {},
     "output_type": "execute_result"
    }
   ],
   "source": [
    "validate_generator.class_indices"
   ]
  },
  {
   "cell_type": "markdown",
   "id": "bd9031f0",
   "metadata": {
    "papermill": {
     "duration": 0.024524,
     "end_time": "2022-03-30T20:40:24.853452",
     "exception": false,
     "start_time": "2022-03-30T20:40:24.828928",
     "status": "completed"
    },
    "tags": []
   },
   "source": [
    "## Build and Fit Typical CNN Model\n",
    "\n",
    "I used [this](https://medium.com/techiepedia/binary-image-classifier-cnn-using-tensorflow-a3f5d6746697) site for inspiration when building the model."
   ]
  },
  {
   "cell_type": "code",
   "execution_count": 11,
   "id": "6a997087",
   "metadata": {
    "execution": {
     "iopub.execute_input": "2022-03-30T20:40:24.912297Z",
     "iopub.status.busy": "2022-03-30T20:40:24.911595Z",
     "iopub.status.idle": "2022-03-30T20:40:25.857940Z",
     "shell.execute_reply": "2022-03-30T20:40:25.858503Z"
    },
    "papermill": {
     "duration": 0.98036,
     "end_time": "2022-03-30T20:40:25.858695",
     "exception": false,
     "start_time": "2022-03-30T20:40:24.878335",
     "status": "completed"
    },
    "tags": []
   },
   "outputs": [
    {
     "name": "stderr",
     "output_type": "stream",
     "text": [
      "2022-03-30 20:40:24.948854: I tensorflow/core/common_runtime/process_util.cc:146] Creating new thread pool with default inter op setting: 2. Tune using inter_op_parallelism_threads for best performance.\n"
     ]
    }
   ],
   "source": [
    "\n",
    "input_shape = (IMAGE_WIDTH, IMAGE_HEIGHT, IMAGE_CHANNEL)\n",
    "nb_classes = 1 # output probability of one class\n",
    "\n",
    "nb_filters = 25 # the number of filters/kernels\n",
    "nb_pool = 2 # window size of pooling\n",
    "nb_conv = 3 # window size of filter/kernels\n",
    "\n",
    "nb_epoch = 3\n",
    "\n",
    "model = Sequential()\n",
    "\n",
    "\n",
    "# convolutional layer 1\n",
    "model.add(Conv2D(32, kernel_size=nb_conv, input_shape=input_shape, activation='relu', padding=\"SAME\"))\n",
    "\n",
    "# convolutional layer 2\n",
    "model.add(Conv2D(64, kernel_size=nb_conv, activation='relu', padding=\"SAME\"))\n",
    "model.add(MaxPooling2D(pool_size=(nb_pool, nb_pool)))\n",
    "\n",
    "# convolutional layer 3\n",
    "model.add(Conv2D(128, kernel_size=nb_conv, activation='relu', padding=\"SAME\"))\n",
    "model.add(MaxPooling2D(pool_size=(nb_pool, nb_pool)))\n",
    "model.add(BatchNormalization())\n",
    "\n",
    "# flatten image to 1D array\n",
    "model.add(Flatten())\n",
    "\n",
    "# hidden layer 1 + dropout to reduce overfitting\n",
    "model.add(Dense(512, activation='relu', kernel_regularizer=keras.regularizers.l1_l2(0.01)))\n",
    "model.add(Dropout(0.5))\n",
    "model.add(BatchNormalization())\n",
    "\n",
    "# hidden layer 2 + dropout to reduce overfitting\n",
    "model.add(Dense(512, activation='relu', kernel_regularizer=keras.regularizers.l1_l2(0.01)))\n",
    "model.add(Dropout(0.5))\n",
    "model.add(BatchNormalization())\n",
    "\n",
    "# output layer\n",
    "model.add(Dense(nb_classes, activation='sigmoid'))\n"
   ]
  },
  {
   "cell_type": "code",
   "execution_count": 12,
   "id": "1dd34848",
   "metadata": {
    "execution": {
     "iopub.execute_input": "2022-03-30T20:40:25.913844Z",
     "iopub.status.busy": "2022-03-30T20:40:25.912850Z",
     "iopub.status.idle": "2022-03-30T20:40:25.924241Z",
     "shell.execute_reply": "2022-03-30T20:40:25.924862Z"
    },
    "papermill": {
     "duration": 0.040545,
     "end_time": "2022-03-30T20:40:25.925033",
     "exception": false,
     "start_time": "2022-03-30T20:40:25.884488",
     "status": "completed"
    },
    "tags": []
   },
   "outputs": [
    {
     "name": "stdout",
     "output_type": "stream",
     "text": [
      "Model: \"sequential\"\n",
      "_________________________________________________________________\n",
      "Layer (type)                 Output Shape              Param #   \n",
      "=================================================================\n",
      "conv2d (Conv2D)              (None, 150, 150, 32)      896       \n",
      "_________________________________________________________________\n",
      "conv2d_1 (Conv2D)            (None, 150, 150, 64)      18496     \n",
      "_________________________________________________________________\n",
      "max_pooling2d (MaxPooling2D) (None, 75, 75, 64)        0         \n",
      "_________________________________________________________________\n",
      "conv2d_2 (Conv2D)            (None, 75, 75, 128)       73856     \n",
      "_________________________________________________________________\n",
      "max_pooling2d_1 (MaxPooling2 (None, 37, 37, 128)       0         \n",
      "_________________________________________________________________\n",
      "batch_normalization (BatchNo (None, 37, 37, 128)       512       \n",
      "_________________________________________________________________\n",
      "flatten (Flatten)            (None, 175232)            0         \n",
      "_________________________________________________________________\n",
      "dense (Dense)                (None, 512)               89719296  \n",
      "_________________________________________________________________\n",
      "dropout (Dropout)            (None, 512)               0         \n",
      "_________________________________________________________________\n",
      "batch_normalization_1 (Batch (None, 512)               2048      \n",
      "_________________________________________________________________\n",
      "dense_1 (Dense)              (None, 512)               262656    \n",
      "_________________________________________________________________\n",
      "dropout_1 (Dropout)          (None, 512)               0         \n",
      "_________________________________________________________________\n",
      "batch_normalization_2 (Batch (None, 512)               2048      \n",
      "_________________________________________________________________\n",
      "dense_2 (Dense)              (None, 1)                 513       \n",
      "=================================================================\n",
      "Total params: 90,080,321\n",
      "Trainable params: 90,078,017\n",
      "Non-trainable params: 2,304\n",
      "_________________________________________________________________\n"
     ]
    }
   ],
   "source": [
    "model.summary()"
   ]
  },
  {
   "cell_type": "code",
   "execution_count": 13,
   "id": "3726bed3",
   "metadata": {
    "execution": {
     "iopub.execute_input": "2022-03-30T20:40:25.980239Z",
     "iopub.status.busy": "2022-03-30T20:40:25.979619Z",
     "iopub.status.idle": "2022-03-31T01:06:25.854634Z",
     "shell.execute_reply": "2022-03-31T01:06:25.855277Z"
    },
    "papermill": {
     "duration": 15959.904677,
     "end_time": "2022-03-31T01:06:25.855597",
     "exception": false,
     "start_time": "2022-03-30T20:40:25.950920",
     "status": "completed"
    },
    "tags": []
   },
   "outputs": [
    {
     "name": "stderr",
     "output_type": "stream",
     "text": [
      "2022-03-30 20:40:26.241308: I tensorflow/compiler/mlir/mlir_graph_optimization_pass.cc:185] None of the MLIR Optimization Passes are enabled (registered 2)\n"
     ]
    },
    {
     "name": "stdout",
     "output_type": "stream",
     "text": [
      "Epoch 1/10\n",
      "400/400 [==============================] - 1568s 4s/step - loss: 164.2788 - binary_accuracy: 0.5616 - val_loss: 101.7762 - val_binary_accuracy: 0.4948\n",
      "Epoch 2/10\n",
      "400/400 [==============================] - 1563s 4s/step - loss: 100.7080 - binary_accuracy: 0.6213 - val_loss: 99.4039 - val_binary_accuracy: 0.5670\n",
      "Epoch 3/10\n",
      "400/400 [==============================] - 1563s 4s/step - loss: 99.5324 - binary_accuracy: 0.6457 - val_loss: 98.9320 - val_binary_accuracy: 0.6496\n",
      "Epoch 4/10\n",
      "400/400 [==============================] - 1564s 4s/step - loss: 99.7904 - binary_accuracy: 0.6700 - val_loss: 103.3431 - val_binary_accuracy: 0.5052\n",
      "Epoch 5/10\n",
      "400/400 [==============================] - 1566s 4s/step - loss: 101.3142 - binary_accuracy: 0.6837 - val_loss: 102.5884 - val_binary_accuracy: 0.5356\n",
      "Epoch 6/10\n",
      "400/400 [==============================] - 1565s 4s/step - loss: 102.1346 - binary_accuracy: 0.7111 - val_loss: 102.0342 - val_binary_accuracy: 0.6126\n",
      "Epoch 7/10\n",
      "400/400 [==============================] - 1573s 4s/step - loss: 102.6512 - binary_accuracy: 0.7218 - val_loss: 101.8218 - val_binary_accuracy: 0.6738\n",
      "Epoch 8/10\n",
      "400/400 [==============================] - 1586s 4s/step - loss: 102.5954 - binary_accuracy: 0.7362 - val_loss: 101.6189 - val_binary_accuracy: 0.6018\n",
      "Epoch 9/10\n",
      "400/400 [==============================] - 1587s 4s/step - loss: 101.9037 - binary_accuracy: 0.7423 - val_loss: 101.7987 - val_binary_accuracy: 0.7592\n",
      "Epoch 10/10\n",
      "400/400 [==============================] - 1600s 4s/step - loss: 101.9894 - binary_accuracy: 0.7473 - val_loss: 101.9357 - val_binary_accuracy: 0.7012\n"
     ]
    },
    {
     "data": {
      "text/plain": [
       "<keras.callbacks.History at 0x7fbfc3c28290>"
      ]
     },
     "execution_count": 13,
     "metadata": {},
     "output_type": "execute_result"
    }
   ],
   "source": [
    "model.compile(loss='binary_crossentropy', optimizer=\"adam\", metrics=[keras.metrics.BinaryAccuracy()])\n",
    "model.fit(train_generator, \n",
    "          epochs=10, \n",
    "          steps_per_epoch=train_df.shape[0]//batch_size, \n",
    "          validation_data=validate_generator)"
   ]
  },
  {
   "cell_type": "markdown",
   "id": "40928b28",
   "metadata": {},
   "source": [
    "We can see that this model is overfitting in some of the earlier epochs because the accuracy on the training set is much higher than the accuracy on the validation set. The accuracies are also relatively low, but I will still visualize the model's prediction on one image."
   ]
  },
  {
   "cell_type": "markdown",
   "id": "13ad6d4d",
   "metadata": {
    "papermill": {
     "duration": 1.603886,
     "end_time": "2022-03-31T01:06:28.942064",
     "exception": false,
     "start_time": "2022-03-31T01:06:27.338178",
     "status": "completed"
    },
    "tags": []
   },
   "source": [
    "### Test out Model\n",
    "\n",
    "I used this [site](https://medium.com/techiepedia/binary-image-classifier-cnn-using-tensorflow-a3f5d6746697) to built a function that will print out images and their predictions."
   ]
  },
  {
   "cell_type": "code",
   "execution_count": 14,
   "id": "605bd036",
   "metadata": {
    "execution": {
     "iopub.execute_input": "2022-03-31T01:06:31.927792Z",
     "iopub.status.busy": "2022-03-31T01:06:31.927121Z",
     "iopub.status.idle": "2022-03-31T01:06:31.952635Z",
     "shell.execute_reply": "2022-03-31T01:06:31.952091Z",
     "shell.execute_reply.started": "2022-03-30T14:48:55.153384Z"
    },
    "papermill": {
     "duration": 1.525904,
     "end_time": "2022-03-31T01:06:31.952784",
     "exception": false,
     "start_time": "2022-03-31T01:06:30.426880",
     "status": "completed"
    },
    "tags": []
   },
   "outputs": [],
   "source": [
    "# testing\n",
    "test_files = os.listdir(\"./test\")\n",
    "test_df = pd.DataFrame({\n",
    "    'filename': test_files\n",
    "})\n",
    "nb_samples = test_df.shape[0]"
   ]
  },
  {
   "cell_type": "code",
   "execution_count": 15,
   "id": "de199ea5",
   "metadata": {
    "execution": {
     "iopub.execute_input": "2022-03-31T01:06:34.925808Z",
     "iopub.status.busy": "2022-03-31T01:06:34.925126Z",
     "iopub.status.idle": "2022-03-31T01:06:34.927788Z",
     "shell.execute_reply": "2022-03-31T01:06:34.927252Z",
     "shell.execute_reply.started": "2022-03-30T14:48:57.366402Z"
    },
    "papermill": {
     "duration": 1.499443,
     "end_time": "2022-03-31T01:06:34.927965",
     "exception": false,
     "start_time": "2022-03-31T01:06:33.428522",
     "status": "completed"
    },
    "tags": []
   },
   "outputs": [],
   "source": [
    "def predictImage(filename):\n",
    "    img1 = image.load_img(filename,target_size=(150,150))\n",
    "    \n",
    "    plt.imshow(img1)\n",
    " \n",
    "    Y = image.img_to_array(img1)\n",
    "    \n",
    "    X = np.expand_dims(Y,axis=0)\n",
    "    val = model.predict(X)\n",
    "    print(val)\n",
    "    if val == 1:\n",
    "        \n",
    "        plt.xlabel(\"DOG\",fontsize=30)\n",
    "        \n",
    "    \n",
    "    elif val == 0:\n",
    "        \n",
    "        plt.xlabel(\"CAT\",fontsize=30)\n"
   ]
  },
  {
   "cell_type": "code",
   "execution_count": 16,
   "id": "b5e588e0",
   "metadata": {
    "execution": {
     "iopub.execute_input": "2022-03-31T01:06:37.895096Z",
     "iopub.status.busy": "2022-03-31T01:06:37.894413Z",
     "iopub.status.idle": "2022-03-31T01:06:38.706640Z",
     "shell.execute_reply": "2022-03-31T01:06:38.707449Z",
     "shell.execute_reply.started": "2022-03-30T14:50:03.819527Z"
    },
    "papermill": {
     "duration": 2.295562,
     "end_time": "2022-03-31T01:06:38.707682",
     "exception": false,
     "start_time": "2022-03-31T01:06:36.412120",
     "status": "completed"
    },
    "tags": []
   },
   "outputs": [
    {
     "name": "stdout",
     "output_type": "stream",
     "text": [
      "[[1.]]\n"
     ]
    },
    {
     "data": {
      "image/png": "[encoded data removed]",
      "text/plain": [
       "<Figure size 432x288 with 1 Axes>"
      ]
     },
     "metadata": {
      "needs_background": "light"
     },
     "output_type": "display_data"
    }
   ],
   "source": [
    "predictImage(r'./test/2.jpg')"
   ]
  },
  {
   "cell_type": "markdown",
   "id": "c42855bc",
   "metadata": {
    "papermill": {
     "duration": 0.02413,
     "end_time": "2022-03-29T21:52:11.475492",
     "exception": false,
     "start_time": "2022-03-29T21:52:11.451362",
     "status": "completed"
    },
    "tags": []
   },
   "source": [
    "## Xception Model"
   ]
  },
  {
   "cell_type": "code",
   "execution_count": 1,
   "id": "ef88a033",
   "metadata": {
    "execution": {
     "iopub.execute_input": "2022-03-29T21:52:11.535370Z",
     "iopub.status.busy": "2022-03-29T21:52:11.534322Z",
     "iopub.status.idle": "2022-03-29T21:52:18.215595Z",
     "shell.execute_reply": "2022-03-29T21:52:18.214412Z",
     "shell.execute_reply.started": "2022-03-29T19:56:06.098261Z"
    },
    "id": "8ffbfa8d",
    "papermill": {
     "duration": 6.714261,
     "end_time": "2022-03-29T21:52:18.215784",
     "exception": false,
     "start_time": "2022-03-29T21:52:11.501523",
     "status": "completed"
    },
    "tags": []
   },
   "outputs": [],
   "source": [
    "import numpy as np\n",
    "import pandas as pd\n",
    "\n",
    "# for importing the data\n",
    "import os\n",
    "from zipfile import ZipFile\n",
    "import matplotlib.pyplot as plt\n",
    "from keras.preprocessing.image import ImageDataGenerator\n",
    "\n",
    "# For Building Typical NN Model\n",
    "import keras\n",
    "import tensorflow\n",
    "from tensorflow.keras.models import Sequential\n",
    "from tensorflow.keras.layers import Dense, Activation, Conv2D, MaxPooling2D, Flatten, BatchNormalization\n",
    "\n",
    "# For Callbacks\n",
    "from tensorflow.keras.callbacks import EarlyStopping, ReduceLROnPlateau\n",
    "\n",
    "# For Preparing Training & Validation data\n",
    "from sklearn.model_selection import train_test_split\n",
    "\n",
    "# For Data Augmentation\n",
    "from keras.preprocessing.image import ImageDataGenerator\n",
    "from tensorflow.keras.preprocessing import image\n",
    "\n",
    "# for pre-trained models\n",
    "from keras.applications.vgg16 import preprocess_input\n",
    "from keras.applications.vgg16 import decode_predictions\n",
    "from keras.applications.vgg16 import VGG16\n",
    "from tensorflow import keras"
   ]
  },
  {
   "cell_type": "markdown",
   "id": "fc26ce80",
   "metadata": {
    "id": "5e0e3def",
    "papermill": {
     "duration": 0.023016,
     "end_time": "2022-03-29T21:52:18.263267",
     "exception": false,
     "start_time": "2022-03-29T21:52:18.240251",
     "status": "completed"
    },
    "tags": []
   },
   "source": [
    "## Import and Format Data\n",
    "\n",
    "To import and format the data, I took the following steps.\n",
    "1. Imported the data\n",
    "2. Split the training set into a training and validation set\n",
    "3. Formated the data\n",
    "    - Scaled\n",
    "    - Augmented\n",
    "    - Sized\n",
    "\n",
    "To complete these steps, I took inspiration from [this site.](https://www.kaggle.com/code/hebaatef/dogs-vs-cats-classification-using-keras-cnn#8.-Prepare-Testing-Data)"
   ]
  },
  {
   "cell_type": "markdown",
   "id": "86e441e8",
   "metadata": {
    "id": "K2b60uuSf3rZ",
    "papermill": {
     "duration": 0.023368,
     "end_time": "2022-03-29T21:52:18.309989",
     "exception": false,
     "start_time": "2022-03-29T21:52:18.286621",
     "status": "completed"
    },
    "tags": []
   },
   "source": [
    "### Importing Data"
   ]
  },
  {
   "cell_type": "code",
   "execution_count": 2,
   "id": "6df52051",
   "metadata": {
    "execution": {
     "iopub.execute_input": "2022-03-29T21:52:18.364971Z",
     "iopub.status.busy": "2022-03-29T21:52:18.363760Z",
     "iopub.status.idle": "2022-03-29T21:52:18.370639Z",
     "shell.execute_reply": "2022-03-29T21:52:18.369904Z",
     "shell.execute_reply.started": "2022-03-29T19:56:17.752690Z"
    },
    "papermill": {
     "duration": 0.037261,
     "end_time": "2022-03-29T21:52:18.370795",
     "exception": false,
     "start_time": "2022-03-29T21:52:18.333534",
     "status": "completed"
    },
    "tags": []
   },
   "outputs": [
    {
     "name": "stdout",
     "output_type": "stream",
     "text": [
      "/kaggle/input/dogs-vs-cats-redux-kernels-edition/sample_submission.csv\n",
      "/kaggle/input/dogs-vs-cats-redux-kernels-edition/train.zip\n",
      "/kaggle/input/dogs-vs-cats-redux-kernels-edition/test.zip\n"
     ]
    }
   ],
   "source": [
    "# list all files under current directory\n",
    "for dirname, _, filenames in os.walk('/kaggle/input'):\n",
    "    for filename in filenames:\n",
    "        print(os.path.join(dirname, filename))"
   ]
  },
  {
   "cell_type": "code",
   "execution_count": 3,
   "id": "175cd3e7",
   "metadata": {
    "execution": {
     "iopub.execute_input": "2022-03-29T21:52:18.425171Z",
     "iopub.status.busy": "2022-03-29T21:52:18.424405Z",
     "iopub.status.idle": "2022-03-29T21:52:33.206521Z",
     "shell.execute_reply": "2022-03-29T21:52:33.205822Z",
     "shell.execute_reply.started": "2022-03-29T19:56:29.770634Z"
    },
    "id": "ef44cdab",
    "papermill": {
     "duration": 14.810773,
     "end_time": "2022-03-29T21:52:33.206713",
     "exception": false,
     "start_time": "2022-03-29T21:52:18.395940",
     "status": "completed"
    },
    "tags": []
   },
   "outputs": [],
   "source": [
    "ZipFile(\"/kaggle/input/dogs-vs-cats-redux-kernels-edition/train.zip\").extractall()"
   ]
  },
  {
   "cell_type": "code",
   "execution_count": 4,
   "id": "c4cc733d",
   "metadata": {
    "execution": {
     "iopub.execute_input": "2022-03-29T21:52:33.265338Z",
     "iopub.status.busy": "2022-03-29T21:52:33.261423Z",
     "iopub.status.idle": "2022-03-29T21:52:39.873438Z",
     "shell.execute_reply": "2022-03-29T21:52:39.872844Z",
     "shell.execute_reply.started": "2022-03-29T19:56:45.023811Z"
    },
    "id": "94051635",
    "papermill": {
     "duration": 6.6426,
     "end_time": "2022-03-29T21:52:39.873631",
     "exception": false,
     "start_time": "2022-03-29T21:52:33.231031",
     "status": "completed"
    },
    "tags": []
   },
   "outputs": [],
   "source": [
    "ZipFile(\"/kaggle/input/dogs-vs-cats-redux-kernels-edition/test.zip\").extractall()"
   ]
  },
  {
   "cell_type": "code",
   "execution_count": 5,
   "id": "dbb8fd11",
   "metadata": {
    "execution": {
     "iopub.execute_input": "2022-03-29T21:52:39.927242Z",
     "iopub.status.busy": "2022-03-29T21:52:39.926251Z",
     "iopub.status.idle": "2022-03-29T21:52:39.989773Z",
     "shell.execute_reply": "2022-03-29T21:52:39.989190Z",
     "shell.execute_reply.started": "2022-03-29T19:57:03.334711Z"
    },
    "id": "67e0b3c5",
    "outputId": "0078d076-27e2-4d80-c63e-153846eca30c",
    "papermill": {
     "duration": 0.092678,
     "end_time": "2022-03-29T21:52:39.989921",
     "exception": false,
     "start_time": "2022-03-29T21:52:39.897243",
     "status": "completed"
    },
    "tags": []
   },
   "outputs": [
    {
     "data": {
      "text/html": [
       "<div>\n",
       "<style scoped>\n",
       "    .dataframe tbody tr th:only-of-type {\n",
       "        vertical-align: middle;\n",
       "    }\n",
       "\n",
       "    .dataframe tbody tr th {\n",
       "        vertical-align: top;\n",
       "    }\n",
       "\n",
       "    .dataframe thead th {\n",
       "        text-align: right;\n",
       "    }\n",
       "</style>\n",
       "<table border=\"1\" class=\"dataframe\">\n",
       "  <thead>\n",
       "    <tr style=\"text-align: right;\">\n",
       "      <th></th>\n",
       "      <th>filename</th>\n",
       "      <th>category</th>\n",
       "    </tr>\n",
       "  </thead>\n",
       "  <tbody>\n",
       "    <tr>\n",
       "      <th>0</th>\n",
       "      <td>dog.2688.jpg</td>\n",
       "      <td>dog</td>\n",
       "    </tr>\n",
       "    <tr>\n",
       "      <th>1</th>\n",
       "      <td>dog.1343.jpg</td>\n",
       "      <td>dog</td>\n",
       "    </tr>\n",
       "    <tr>\n",
       "      <th>2</th>\n",
       "      <td>dog.11387.jpg</td>\n",
       "      <td>dog</td>\n",
       "    </tr>\n",
       "    <tr>\n",
       "      <th>3</th>\n",
       "      <td>dog.5935.jpg</td>\n",
       "      <td>dog</td>\n",
       "    </tr>\n",
       "    <tr>\n",
       "      <th>4</th>\n",
       "      <td>dog.2100.jpg</td>\n",
       "      <td>dog</td>\n",
       "    </tr>\n",
       "  </tbody>\n",
       "</table>\n",
       "</div>"
      ],
      "text/plain": [
       "        filename category\n",
       "0   dog.2688.jpg      dog\n",
       "1   dog.1343.jpg      dog\n",
       "2  dog.11387.jpg      dog\n",
       "3   dog.5935.jpg      dog\n",
       "4   dog.2100.jpg      dog"
      ]
     },
     "execution_count": 5,
     "metadata": {},
     "output_type": "execute_result"
    }
   ],
   "source": [
    "# importing training data and assigning categories\n",
    "train_files = os.listdir(\"./train\")\n",
    "train_categories = []\n",
    "\n",
    "for file in train_files:\n",
    "    category = file.split('.')[0]\n",
    "    \n",
    "    if category == \"dog\":\n",
    "        train_categories.append(1)\n",
    "    else:\n",
    "        train_categories.append(0)\n",
    "        \n",
    "df = pd.DataFrame({\n",
    "    'filename': train_files,\n",
    "    'category': train_categories\n",
    "})\n",
    "\n",
    "df['category'] = df['category'].replace({0:'cat', 1:'dog'})\n",
    "df.head()"
   ]
  },
  {
   "cell_type": "markdown",
   "id": "c8737b25",
   "metadata": {
    "id": "wssVA9amf6Nr",
    "papermill": {
     "duration": 0.023605,
     "end_time": "2022-03-29T21:52:40.037249",
     "exception": false,
     "start_time": "2022-03-29T21:52:40.013644",
     "status": "completed"
    },
    "tags": []
   },
   "source": [
    "### Split into Training and Validation Sets"
   ]
  },
  {
   "cell_type": "code",
   "execution_count": 6,
   "id": "4a479b2a",
   "metadata": {
    "execution": {
     "iopub.execute_input": "2022-03-29T21:52:40.090907Z",
     "iopub.status.busy": "2022-03-29T21:52:40.089899Z",
     "iopub.status.idle": "2022-03-29T21:52:40.107708Z",
     "shell.execute_reply": "2022-03-29T21:52:40.108254Z",
     "shell.execute_reply.started": "2022-03-29T19:57:07.605491Z"
    },
    "id": "156a7fbc",
    "outputId": "67dcbdea-b714-41f3-9d95-73b94d6dc155",
    "papermill": {
     "duration": 0.047609,
     "end_time": "2022-03-29T21:52:40.108414",
     "exception": false,
     "start_time": "2022-03-29T21:52:40.060805",
     "status": "completed"
    },
    "tags": []
   },
   "outputs": [
    {
     "data": {
      "text/html": [
       "<div>\n",
       "<style scoped>\n",
       "    .dataframe tbody tr th:only-of-type {\n",
       "        vertical-align: middle;\n",
       "    }\n",
       "\n",
       "    .dataframe tbody tr th {\n",
       "        vertical-align: top;\n",
       "    }\n",
       "\n",
       "    .dataframe thead th {\n",
       "        text-align: right;\n",
       "    }\n",
       "</style>\n",
       "<table border=\"1\" class=\"dataframe\">\n",
       "  <thead>\n",
       "    <tr style=\"text-align: right;\">\n",
       "      <th></th>\n",
       "      <th>filename</th>\n",
       "      <th>category</th>\n",
       "    </tr>\n",
       "  </thead>\n",
       "  <tbody>\n",
       "    <tr>\n",
       "      <th>0</th>\n",
       "      <td>cat.10325.jpg</td>\n",
       "      <td>cat</td>\n",
       "    </tr>\n",
       "    <tr>\n",
       "      <th>1</th>\n",
       "      <td>cat.1791.jpg</td>\n",
       "      <td>cat</td>\n",
       "    </tr>\n",
       "    <tr>\n",
       "      <th>2</th>\n",
       "      <td>cat.3261.jpg</td>\n",
       "      <td>cat</td>\n",
       "    </tr>\n",
       "    <tr>\n",
       "      <th>3</th>\n",
       "      <td>cat.438.jpg</td>\n",
       "      <td>cat</td>\n",
       "    </tr>\n",
       "    <tr>\n",
       "      <th>4</th>\n",
       "      <td>cat.12102.jpg</td>\n",
       "      <td>cat</td>\n",
       "    </tr>\n",
       "    <tr>\n",
       "      <th>...</th>\n",
       "      <td>...</td>\n",
       "      <td>...</td>\n",
       "    </tr>\n",
       "    <tr>\n",
       "      <th>19995</th>\n",
       "      <td>cat.4677.jpg</td>\n",
       "      <td>cat</td>\n",
       "    </tr>\n",
       "    <tr>\n",
       "      <th>19996</th>\n",
       "      <td>cat.5668.jpg</td>\n",
       "      <td>cat</td>\n",
       "    </tr>\n",
       "    <tr>\n",
       "      <th>19997</th>\n",
       "      <td>dog.6679.jpg</td>\n",
       "      <td>dog</td>\n",
       "    </tr>\n",
       "    <tr>\n",
       "      <th>19998</th>\n",
       "      <td>cat.1263.jpg</td>\n",
       "      <td>cat</td>\n",
       "    </tr>\n",
       "    <tr>\n",
       "      <th>19999</th>\n",
       "      <td>cat.10223.jpg</td>\n",
       "      <td>cat</td>\n",
       "    </tr>\n",
       "  </tbody>\n",
       "</table>\n",
       "<p>20000 rows × 2 columns</p>\n",
       "</div>"
      ],
      "text/plain": [
       "            filename category\n",
       "0      cat.10325.jpg      cat\n",
       "1       cat.1791.jpg      cat\n",
       "2       cat.3261.jpg      cat\n",
       "3        cat.438.jpg      cat\n",
       "4      cat.12102.jpg      cat\n",
       "...              ...      ...\n",
       "19995   cat.4677.jpg      cat\n",
       "19996   cat.5668.jpg      cat\n",
       "19997   dog.6679.jpg      dog\n",
       "19998   cat.1263.jpg      cat\n",
       "19999  cat.10223.jpg      cat\n",
       "\n",
       "[20000 rows x 2 columns]"
      ]
     },
     "execution_count": 6,
     "metadata": {},
     "output_type": "execute_result"
    }
   ],
   "source": [
    "# split train data frame into training and validation sets\n",
    "train_df, validate_df = train_test_split(df, test_size=0.20, random_state=42)\n",
    "train_df = train_df.reset_index(drop=True)\n",
    "validate_df = validate_df.reset_index(drop=True)\n",
    "\n",
    "train_df"
   ]
  },
  {
   "cell_type": "markdown",
   "id": "7071c33e",
   "metadata": {
    "id": "tq0ieFodluIb",
    "papermill": {
     "duration": 0.025861,
     "end_time": "2022-03-29T21:52:40.158761",
     "exception": false,
     "start_time": "2022-03-29T21:52:40.132900",
     "status": "completed"
    },
    "tags": []
   },
   "source": [
    "### Data Formatting\n",
    "\n",
    "* Scaled: To format the training and validation data, I scaled the pixels so that they are between -1 and 1,  the desired scale for an Xception model. I used this [website](https://stackoverflow.com/questions/62836692/imagedatagenerator-rescaling-to-1-1-instead-of-0-1) to scale the data. \n",
    "\n",
    "* Augmented: I augmented only the training data using the ImageDataGenerator() function. This process artificially expands the size of the training dataset by creating variations of the images to improve the model's ability to generalize on new images. I used this [website](https://www.analyticsvidhya.com/blog/2020/08/image-augmentation-on-the-fly-using-keras-imagedatagenerator/) to understand how to augment the training data.\n",
    "\n",
    "* Sized: I sized the training and validation data to tensors that are 299x299, using 3 tensors for Red, Green, and Blue. This is the default input image size for an Xception model."
   ]
  },
  {
   "cell_type": "code",
   "execution_count": 7,
   "id": "6dbf82a1",
   "metadata": {
    "execution": {
     "iopub.execute_input": "2022-03-29T21:52:40.217905Z",
     "iopub.status.busy": "2022-03-29T21:52:40.216790Z",
     "iopub.status.idle": "2022-03-29T21:52:40.437438Z",
     "shell.execute_reply": "2022-03-29T21:52:40.438290Z"
    },
    "id": "ZAkFVKXPkxGj",
    "papermill": {
     "duration": 0.255274,
     "end_time": "2022-03-29T21:52:40.438550",
     "exception": false,
     "start_time": "2022-03-29T21:52:40.183276",
     "status": "completed"
    },
    "tags": []
   },
   "outputs": [
    {
     "name": "stdout",
     "output_type": "stream",
     "text": [
      "Found 20000 validated image filenames belonging to 2 classes.\n"
     ]
    }
   ],
   "source": [
    "# format training data\n",
    "IMAGE_HEIGHT = 299\n",
    "IMAGE_WIDTH = 299\n",
    "IMAGE_CHANNEL = 3\n",
    "batch_size = 16\n",
    "\n",
    "# scale data to scale between -1 and 1\n",
    "def preprocess_function(img):\n",
    "    img = img.astype(np.float32) / 255.0\n",
    "    img = (img - 0.5) * 2\n",
    "    return img\n",
    "\n",
    "# scale and augment data\n",
    "train_datagen = ImageDataGenerator(preprocessing_function=preprocess_function,\n",
    "                                   rotation_range=90,\n",
    "                                   zoom_range=0.3,\n",
    "                                   horizontal_flip=True,\n",
    "                                   width_shift_range=0.2,\n",
    "                                   height_shift_range=0.2,\n",
    "                                   brightness_range=[0.2,1.2])\n",
    "\n",
    "# size data to desired size\n",
    "train_generator = train_datagen.flow_from_dataframe(\n",
    "    train_df,\n",
    "    \"./train\",\n",
    "    x_col='filename',\n",
    "    y_col='category',\n",
    "    target_size=(IMAGE_HEIGHT, IMAGE_WIDTH),\n",
    "    class_mode='binary',\n",
    "    batch_size=batch_size\n",
    "    \n",
    ")"
   ]
  },
  {
   "cell_type": "code",
   "execution_count": 8,
   "id": "3c29139d",
   "metadata": {
    "execution": {
     "iopub.execute_input": "2022-03-29T21:52:40.507401Z",
     "iopub.status.busy": "2022-03-29T21:52:40.501948Z",
     "iopub.status.idle": "2022-03-29T21:52:40.559214Z",
     "shell.execute_reply": "2022-03-29T21:52:40.559818Z"
    },
    "papermill": {
     "duration": 0.094733,
     "end_time": "2022-03-29T21:52:40.560000",
     "exception": false,
     "start_time": "2022-03-29T21:52:40.465267",
     "status": "completed"
    },
    "tags": []
   },
   "outputs": [
    {
     "name": "stdout",
     "output_type": "stream",
     "text": [
      "Found 5000 validated image filenames belonging to 2 classes.\n"
     ]
    }
   ],
   "source": [
    "# format validation data\n",
    "validate_datagen = ImageDataGenerator(preprocessing_function=preprocess_function)\n",
    "\n",
    "validate_generator = validate_datagen.flow_from_dataframe(\n",
    "    validate_df,\n",
    "    \"./train\",\n",
    "    x_col='filename',\n",
    "    y_col='category',\n",
    "    target_size=(IMAGE_HEIGHT, IMAGE_WIDTH),\n",
    "    class_mode='binary',\n",
    "    batch_size=batch_size\n",
    ")"
   ]
  },
  {
   "cell_type": "markdown",
   "id": "324eeb48",
   "metadata": {
    "id": "f548d04e",
    "papermill": {
     "duration": 0.025586,
     "end_time": "2022-03-29T21:52:40.611918",
     "exception": false,
     "start_time": "2022-03-29T21:52:40.586332",
     "status": "completed"
    },
    "tags": []
   },
   "source": [
    "\n",
    "\n",
    "## Building Xception Model\n",
    "\n",
    "The Xception model is a pre-trained model that merges the idea of GoogleLeNet and ResNet. Instead of using Inception Modules, Xception uses a depthwise separable convolution layer. When building the Xception model, I used the following sites to understand how to build the model.\n",
    "\n",
    "https://keras.io/api/applications/xception/\n",
    "\n",
    "https://github.com/ageron/handson-ml2/blob/master/14_deep_computer_vision_with_cnns.ipynb\n",
    "\n",
    "https://keras.io/guides/transfer_learning/"
   ]
  },
  {
   "cell_type": "code",
   "execution_count": 9,
   "id": "1d1141c0",
   "metadata": {
    "execution": {
     "iopub.execute_input": "2022-03-29T21:52:40.675125Z",
     "iopub.status.busy": "2022-03-29T21:52:40.674069Z",
     "iopub.status.idle": "2022-03-29T21:52:47.805451Z",
     "shell.execute_reply": "2022-03-29T21:52:47.804612Z",
     "shell.execute_reply.started": "2022-03-29T20:53:12.680829Z"
    },
    "id": "f2311aad",
    "papermill": {
     "duration": 7.167644,
     "end_time": "2022-03-29T21:52:47.805697",
     "exception": false,
     "start_time": "2022-03-29T21:52:40.638053",
     "status": "completed"
    },
    "tags": []
   },
   "outputs": [
    {
     "name": "stderr",
     "output_type": "stream",
     "text": [
      "2022-03-29 21:52:40.766643: I tensorflow/stream_executor/cuda/cuda_gpu_executor.cc:937] successful NUMA node read from SysFS had negative value (-1), but there must be at least one NUMA node, so returning NUMA node zero\n",
      "2022-03-29 21:52:40.887778: I tensorflow/stream_executor/cuda/cuda_gpu_executor.cc:937] successful NUMA node read from SysFS had negative value (-1), but there must be at least one NUMA node, so returning NUMA node zero\n",
      "2022-03-29 21:52:40.888879: I tensorflow/stream_executor/cuda/cuda_gpu_executor.cc:937] successful NUMA node read from SysFS had negative value (-1), but there must be at least one NUMA node, so returning NUMA node zero\n",
      "2022-03-29 21:52:40.891493: I tensorflow/core/platform/cpu_feature_guard.cc:142] This TensorFlow binary is optimized with oneAPI Deep Neural Network Library (oneDNN) to use the following CPU instructions in performance-critical operations:  AVX2 FMA\n",
      "To enable them in other operations, rebuild TensorFlow with the appropriate compiler flags.\n",
      "2022-03-29 21:52:40.892865: I tensorflow/stream_executor/cuda/cuda_gpu_executor.cc:937] successful NUMA node read from SysFS had negative value (-1), but there must be at least one NUMA node, so returning NUMA node zero\n",
      "2022-03-29 21:52:40.894100: I tensorflow/stream_executor/cuda/cuda_gpu_executor.cc:937] successful NUMA node read from SysFS had negative value (-1), but there must be at least one NUMA node, so returning NUMA node zero\n",
      "2022-03-29 21:52:40.895293: I tensorflow/stream_executor/cuda/cuda_gpu_executor.cc:937] successful NUMA node read from SysFS had negative value (-1), but there must be at least one NUMA node, so returning NUMA node zero\n",
      "2022-03-29 21:52:43.074046: I tensorflow/stream_executor/cuda/cuda_gpu_executor.cc:937] successful NUMA node read from SysFS had negative value (-1), but there must be at least one NUMA node, so returning NUMA node zero\n",
      "2022-03-29 21:52:43.075175: I tensorflow/stream_executor/cuda/cuda_gpu_executor.cc:937] successful NUMA node read from SysFS had negative value (-1), but there must be at least one NUMA node, so returning NUMA node zero\n",
      "2022-03-29 21:52:43.076194: I tensorflow/stream_executor/cuda/cuda_gpu_executor.cc:937] successful NUMA node read from SysFS had negative value (-1), but there must be at least one NUMA node, so returning NUMA node zero\n",
      "2022-03-29 21:52:43.077135: I tensorflow/core/common_runtime/gpu/gpu_device.cc:1510] Created device /job:localhost/replica:0/task:0/device:GPU:0 with 15403 MB memory:  -> device: 0, name: Tesla P100-PCIE-16GB, pci bus id: 0000:00:04.0, compute capability: 6.0\n"
     ]
    },
    {
     "name": "stdout",
     "output_type": "stream",
     "text": [
      "Downloading data from https://storage.googleapis.com/tensorflow/keras-applications/xception/xception_weights_tf_dim_ordering_tf_kernels_notop.h5\n",
      "83689472/83683744 [==============================] - 2s 0us/step\n",
      "83697664/83683744 [==============================] - 2s 0us/step\n",
      "Model: \"model\"\n",
      "__________________________________________________________________________________________________\n",
      "Layer (type)                    Output Shape         Param #     Connected to                     \n",
      "==================================================================================================\n",
      "input_1 (InputLayer)            [(None, 299, 299, 3) 0                                            \n",
      "__________________________________________________________________________________________________\n",
      "block1_conv1 (Conv2D)           (None, 149, 149, 32) 864         input_1[0][0]                    \n",
      "__________________________________________________________________________________________________\n",
      "block1_conv1_bn (BatchNormaliza (None, 149, 149, 32) 128         block1_conv1[0][0]               \n",
      "__________________________________________________________________________________________________\n",
      "block1_conv1_act (Activation)   (None, 149, 149, 32) 0           block1_conv1_bn[0][0]            \n",
      "__________________________________________________________________________________________________\n",
      "block1_conv2 (Conv2D)           (None, 147, 147, 64) 18432       block1_conv1_act[0][0]           \n",
      "__________________________________________________________________________________________________\n",
      "block1_conv2_bn (BatchNormaliza (None, 147, 147, 64) 256         block1_conv2[0][0]               \n",
      "__________________________________________________________________________________________________\n",
      "block1_conv2_act (Activation)   (None, 147, 147, 64) 0           block1_conv2_bn[0][0]            \n",
      "__________________________________________________________________________________________________\n",
      "block2_sepconv1 (SeparableConv2 (None, 147, 147, 128 8768        block1_conv2_act[0][0]           \n",
      "__________________________________________________________________________________________________\n",
      "block2_sepconv1_bn (BatchNormal (None, 147, 147, 128 512         block2_sepconv1[0][0]            \n",
      "__________________________________________________________________________________________________\n",
      "block2_sepconv2_act (Activation (None, 147, 147, 128 0           block2_sepconv1_bn[0][0]         \n",
      "__________________________________________________________________________________________________\n",
      "block2_sepconv2 (SeparableConv2 (None, 147, 147, 128 17536       block2_sepconv2_act[0][0]        \n",
      "__________________________________________________________________________________________________\n",
      "block2_sepconv2_bn (BatchNormal (None, 147, 147, 128 512         block2_sepconv2[0][0]            \n",
      "__________________________________________________________________________________________________\n",
      "conv2d (Conv2D)                 (None, 74, 74, 128)  8192        block1_conv2_act[0][0]           \n",
      "__________________________________________________________________________________________________\n",
      "block2_pool (MaxPooling2D)      (None, 74, 74, 128)  0           block2_sepconv2_bn[0][0]         \n",
      "__________________________________________________________________________________________________\n",
      "batch_normalization (BatchNorma (None, 74, 74, 128)  512         conv2d[0][0]                     \n",
      "__________________________________________________________________________________________________\n",
      "add (Add)                       (None, 74, 74, 128)  0           block2_pool[0][0]                \n",
      "                                                                 batch_normalization[0][0]        \n",
      "__________________________________________________________________________________________________\n",
      "block3_sepconv1_act (Activation (None, 74, 74, 128)  0           add[0][0]                        \n",
      "__________________________________________________________________________________________________\n",
      "block3_sepconv1 (SeparableConv2 (None, 74, 74, 256)  33920       block3_sepconv1_act[0][0]        \n",
      "__________________________________________________________________________________________________\n",
      "block3_sepconv1_bn (BatchNormal (None, 74, 74, 256)  1024        block3_sepconv1[0][0]            \n",
      "__________________________________________________________________________________________________\n",
      "block3_sepconv2_act (Activation (None, 74, 74, 256)  0           block3_sepconv1_bn[0][0]         \n",
      "__________________________________________________________________________________________________\n",
      "block3_sepconv2 (SeparableConv2 (None, 74, 74, 256)  67840       block3_sepconv2_act[0][0]        \n",
      "__________________________________________________________________________________________________\n",
      "block3_sepconv2_bn (BatchNormal (None, 74, 74, 256)  1024        block3_sepconv2[0][0]            \n",
      "__________________________________________________________________________________________________\n",
      "conv2d_1 (Conv2D)               (None, 37, 37, 256)  32768       add[0][0]                        \n",
      "__________________________________________________________________________________________________\n",
      "block3_pool (MaxPooling2D)      (None, 37, 37, 256)  0           block3_sepconv2_bn[0][0]         \n",
      "__________________________________________________________________________________________________\n",
      "batch_normalization_1 (BatchNor (None, 37, 37, 256)  1024        conv2d_1[0][0]                   \n",
      "__________________________________________________________________________________________________\n",
      "add_1 (Add)                     (None, 37, 37, 256)  0           block3_pool[0][0]                \n",
      "                                                                 batch_normalization_1[0][0]      \n",
      "__________________________________________________________________________________________________\n",
      "block4_sepconv1_act (Activation (None, 37, 37, 256)  0           add_1[0][0]                      \n",
      "__________________________________________________________________________________________________\n",
      "block4_sepconv1 (SeparableConv2 (None, 37, 37, 728)  188672      block4_sepconv1_act[0][0]        \n",
      "__________________________________________________________________________________________________\n",
      "block4_sepconv1_bn (BatchNormal (None, 37, 37, 728)  2912        block4_sepconv1[0][0]            \n",
      "__________________________________________________________________________________________________\n",
      "block4_sepconv2_act (Activation (None, 37, 37, 728)  0           block4_sepconv1_bn[0][0]         \n",
      "__________________________________________________________________________________________________\n",
      "block4_sepconv2 (SeparableConv2 (None, 37, 37, 728)  536536      block4_sepconv2_act[0][0]        \n",
      "__________________________________________________________________________________________________\n",
      "block4_sepconv2_bn (BatchNormal (None, 37, 37, 728)  2912        block4_sepconv2[0][0]            \n",
      "__________________________________________________________________________________________________\n",
      "conv2d_2 (Conv2D)               (None, 19, 19, 728)  186368      add_1[0][0]                      \n",
      "__________________________________________________________________________________________________\n",
      "block4_pool (MaxPooling2D)      (None, 19, 19, 728)  0           block4_sepconv2_bn[0][0]         \n",
      "__________________________________________________________________________________________________\n",
      "batch_normalization_2 (BatchNor (None, 19, 19, 728)  2912        conv2d_2[0][0]                   \n",
      "__________________________________________________________________________________________________\n",
      "add_2 (Add)                     (None, 19, 19, 728)  0           block4_pool[0][0]                \n",
      "                                                                 batch_normalization_2[0][0]      \n",
      "__________________________________________________________________________________________________\n",
      "block5_sepconv1_act (Activation (None, 19, 19, 728)  0           add_2[0][0]                      \n",
      "__________________________________________________________________________________________________\n",
      "block5_sepconv1 (SeparableConv2 (None, 19, 19, 728)  536536      block5_sepconv1_act[0][0]        \n",
      "__________________________________________________________________________________________________\n",
      "block5_sepconv1_bn (BatchNormal (None, 19, 19, 728)  2912        block5_sepconv1[0][0]            \n",
      "__________________________________________________________________________________________________\n",
      "block5_sepconv2_act (Activation (None, 19, 19, 728)  0           block5_sepconv1_bn[0][0]         \n",
      "__________________________________________________________________________________________________\n",
      "block5_sepconv2 (SeparableConv2 (None, 19, 19, 728)  536536      block5_sepconv2_act[0][0]        \n",
      "__________________________________________________________________________________________________\n",
      "block5_sepconv2_bn (BatchNormal (None, 19, 19, 728)  2912        block5_sepconv2[0][0]            \n",
      "__________________________________________________________________________________________________\n",
      "block5_sepconv3_act (Activation (None, 19, 19, 728)  0           block5_sepconv2_bn[0][0]         \n",
      "__________________________________________________________________________________________________\n",
      "block5_sepconv3 (SeparableConv2 (None, 19, 19, 728)  536536      block5_sepconv3_act[0][0]        \n",
      "__________________________________________________________________________________________________\n",
      "block5_sepconv3_bn (BatchNormal (None, 19, 19, 728)  2912        block5_sepconv3[0][0]            \n",
      "__________________________________________________________________________________________________\n",
      "add_3 (Add)                     (None, 19, 19, 728)  0           block5_sepconv3_bn[0][0]         \n",
      "                                                                 add_2[0][0]                      \n",
      "__________________________________________________________________________________________________\n",
      "block6_sepconv1_act (Activation (None, 19, 19, 728)  0           add_3[0][0]                      \n",
      "__________________________________________________________________________________________________\n",
      "block6_sepconv1 (SeparableConv2 (None, 19, 19, 728)  536536      block6_sepconv1_act[0][0]        \n",
      "__________________________________________________________________________________________________\n",
      "block6_sepconv1_bn (BatchNormal (None, 19, 19, 728)  2912        block6_sepconv1[0][0]            \n",
      "__________________________________________________________________________________________________\n",
      "block6_sepconv2_act (Activation (None, 19, 19, 728)  0           block6_sepconv1_bn[0][0]         \n",
      "__________________________________________________________________________________________________\n",
      "block6_sepconv2 (SeparableConv2 (None, 19, 19, 728)  536536      block6_sepconv2_act[0][0]        \n",
      "__________________________________________________________________________________________________\n",
      "block6_sepconv2_bn (BatchNormal (None, 19, 19, 728)  2912        block6_sepconv2[0][0]            \n",
      "__________________________________________________________________________________________________\n",
      "block6_sepconv3_act (Activation (None, 19, 19, 728)  0           block6_sepconv2_bn[0][0]         \n",
      "__________________________________________________________________________________________________\n",
      "block6_sepconv3 (SeparableConv2 (None, 19, 19, 728)  536536      block6_sepconv3_act[0][0]        \n",
      "__________________________________________________________________________________________________\n",
      "block6_sepconv3_bn (BatchNormal (None, 19, 19, 728)  2912        block6_sepconv3[0][0]            \n",
      "__________________________________________________________________________________________________\n",
      "add_4 (Add)                     (None, 19, 19, 728)  0           block6_sepconv3_bn[0][0]         \n",
      "                                                                 add_3[0][0]                      \n",
      "__________________________________________________________________________________________________\n",
      "block7_sepconv1_act (Activation (None, 19, 19, 728)  0           add_4[0][0]                      \n",
      "__________________________________________________________________________________________________\n",
      "block7_sepconv1 (SeparableConv2 (None, 19, 19, 728)  536536      block7_sepconv1_act[0][0]        \n",
      "__________________________________________________________________________________________________\n",
      "block7_sepconv1_bn (BatchNormal (None, 19, 19, 728)  2912        block7_sepconv1[0][0]            \n",
      "__________________________________________________________________________________________________\n",
      "block7_sepconv2_act (Activation (None, 19, 19, 728)  0           block7_sepconv1_bn[0][0]         \n",
      "__________________________________________________________________________________________________\n",
      "block7_sepconv2 (SeparableConv2 (None, 19, 19, 728)  536536      block7_sepconv2_act[0][0]        \n",
      "__________________________________________________________________________________________________\n",
      "block7_sepconv2_bn (BatchNormal (None, 19, 19, 728)  2912        block7_sepconv2[0][0]            \n",
      "__________________________________________________________________________________________________\n",
      "block7_sepconv3_act (Activation (None, 19, 19, 728)  0           block7_sepconv2_bn[0][0]         \n",
      "__________________________________________________________________________________________________\n",
      "block7_sepconv3 (SeparableConv2 (None, 19, 19, 728)  536536      block7_sepconv3_act[0][0]        \n",
      "__________________________________________________________________________________________________\n",
      "block7_sepconv3_bn (BatchNormal (None, 19, 19, 728)  2912        block7_sepconv3[0][0]            \n",
      "__________________________________________________________________________________________________\n",
      "add_5 (Add)                     (None, 19, 19, 728)  0           block7_sepconv3_bn[0][0]         \n",
      "                                                                 add_4[0][0]                      \n",
      "__________________________________________________________________________________________________\n",
      "block8_sepconv1_act (Activation (None, 19, 19, 728)  0           add_5[0][0]                      \n",
      "__________________________________________________________________________________________________\n",
      "block8_sepconv1 (SeparableConv2 (None, 19, 19, 728)  536536      block8_sepconv1_act[0][0]        \n",
      "__________________________________________________________________________________________________\n",
      "block8_sepconv1_bn (BatchNormal (None, 19, 19, 728)  2912        block8_sepconv1[0][0]            \n",
      "__________________________________________________________________________________________________\n",
      "block8_sepconv2_act (Activation (None, 19, 19, 728)  0           block8_sepconv1_bn[0][0]         \n",
      "__________________________________________________________________________________________________\n",
      "block8_sepconv2 (SeparableConv2 (None, 19, 19, 728)  536536      block8_sepconv2_act[0][0]        \n",
      "__________________________________________________________________________________________________\n",
      "block8_sepconv2_bn (BatchNormal (None, 19, 19, 728)  2912        block8_sepconv2[0][0]            \n",
      "__________________________________________________________________________________________________\n",
      "block8_sepconv3_act (Activation (None, 19, 19, 728)  0           block8_sepconv2_bn[0][0]         \n",
      "__________________________________________________________________________________________________\n",
      "block8_sepconv3 (SeparableConv2 (None, 19, 19, 728)  536536      block8_sepconv3_act[0][0]        \n",
      "__________________________________________________________________________________________________\n",
      "block8_sepconv3_bn (BatchNormal (None, 19, 19, 728)  2912        block8_sepconv3[0][0]            \n",
      "__________________________________________________________________________________________________\n",
      "add_6 (Add)                     (None, 19, 19, 728)  0           block8_sepconv3_bn[0][0]         \n",
      "                                                                 add_5[0][0]                      \n",
      "__________________________________________________________________________________________________\n",
      "block9_sepconv1_act (Activation (None, 19, 19, 728)  0           add_6[0][0]                      \n",
      "__________________________________________________________________________________________________\n",
      "block9_sepconv1 (SeparableConv2 (None, 19, 19, 728)  536536      block9_sepconv1_act[0][0]        \n",
      "__________________________________________________________________________________________________\n",
      "block9_sepconv1_bn (BatchNormal (None, 19, 19, 728)  2912        block9_sepconv1[0][0]            \n",
      "__________________________________________________________________________________________________\n",
      "block9_sepconv2_act (Activation (None, 19, 19, 728)  0           block9_sepconv1_bn[0][0]         \n",
      "__________________________________________________________________________________________________\n",
      "block9_sepconv2 (SeparableConv2 (None, 19, 19, 728)  536536      block9_sepconv2_act[0][0]        \n",
      "__________________________________________________________________________________________________\n",
      "block9_sepconv2_bn (BatchNormal (None, 19, 19, 728)  2912        block9_sepconv2[0][0]            \n",
      "__________________________________________________________________________________________________\n",
      "block9_sepconv3_act (Activation (None, 19, 19, 728)  0           block9_sepconv2_bn[0][0]         \n",
      "__________________________________________________________________________________________________\n",
      "block9_sepconv3 (SeparableConv2 (None, 19, 19, 728)  536536      block9_sepconv3_act[0][0]        \n",
      "__________________________________________________________________________________________________\n",
      "block9_sepconv3_bn (BatchNormal (None, 19, 19, 728)  2912        block9_sepconv3[0][0]            \n",
      "__________________________________________________________________________________________________\n",
      "add_7 (Add)                     (None, 19, 19, 728)  0           block9_sepconv3_bn[0][0]         \n",
      "                                                                 add_6[0][0]                      \n",
      "__________________________________________________________________________________________________\n",
      "block10_sepconv1_act (Activatio (None, 19, 19, 728)  0           add_7[0][0]                      \n",
      "__________________________________________________________________________________________________\n",
      "block10_sepconv1 (SeparableConv (None, 19, 19, 728)  536536      block10_sepconv1_act[0][0]       \n",
      "__________________________________________________________________________________________________\n",
      "block10_sepconv1_bn (BatchNorma (None, 19, 19, 728)  2912        block10_sepconv1[0][0]           \n",
      "__________________________________________________________________________________________________\n",
      "block10_sepconv2_act (Activatio (None, 19, 19, 728)  0           block10_sepconv1_bn[0][0]        \n",
      "__________________________________________________________________________________________________\n",
      "block10_sepconv2 (SeparableConv (None, 19, 19, 728)  536536      block10_sepconv2_act[0][0]       \n",
      "__________________________________________________________________________________________________\n",
      "block10_sepconv2_bn (BatchNorma (None, 19, 19, 728)  2912        block10_sepconv2[0][0]           \n",
      "__________________________________________________________________________________________________\n",
      "block10_sepconv3_act (Activatio (None, 19, 19, 728)  0           block10_sepconv2_bn[0][0]        \n",
      "__________________________________________________________________________________________________\n",
      "block10_sepconv3 (SeparableConv (None, 19, 19, 728)  536536      block10_sepconv3_act[0][0]       \n",
      "__________________________________________________________________________________________________\n",
      "block10_sepconv3_bn (BatchNorma (None, 19, 19, 728)  2912        block10_sepconv3[0][0]           \n",
      "__________________________________________________________________________________________________\n",
      "add_8 (Add)                     (None, 19, 19, 728)  0           block10_sepconv3_bn[0][0]        \n",
      "                                                                 add_7[0][0]                      \n",
      "__________________________________________________________________________________________________\n",
      "block11_sepconv1_act (Activatio (None, 19, 19, 728)  0           add_8[0][0]                      \n",
      "__________________________________________________________________________________________________\n",
      "block11_sepconv1 (SeparableConv (None, 19, 19, 728)  536536      block11_sepconv1_act[0][0]       \n",
      "__________________________________________________________________________________________________\n",
      "block11_sepconv1_bn (BatchNorma (None, 19, 19, 728)  2912        block11_sepconv1[0][0]           \n",
      "__________________________________________________________________________________________________\n",
      "block11_sepconv2_act (Activatio (None, 19, 19, 728)  0           block11_sepconv1_bn[0][0]        \n",
      "__________________________________________________________________________________________________\n",
      "block11_sepconv2 (SeparableConv (None, 19, 19, 728)  536536      block11_sepconv2_act[0][0]       \n",
      "__________________________________________________________________________________________________\n",
      "block11_sepconv2_bn (BatchNorma (None, 19, 19, 728)  2912        block11_sepconv2[0][0]           \n",
      "__________________________________________________________________________________________________\n",
      "block11_sepconv3_act (Activatio (None, 19, 19, 728)  0           block11_sepconv2_bn[0][0]        \n",
      "__________________________________________________________________________________________________\n",
      "block11_sepconv3 (SeparableConv (None, 19, 19, 728)  536536      block11_sepconv3_act[0][0]       \n",
      "__________________________________________________________________________________________________\n",
      "block11_sepconv3_bn (BatchNorma (None, 19, 19, 728)  2912        block11_sepconv3[0][0]           \n",
      "__________________________________________________________________________________________________\n",
      "add_9 (Add)                     (None, 19, 19, 728)  0           block11_sepconv3_bn[0][0]        \n",
      "                                                                 add_8[0][0]                      \n",
      "__________________________________________________________________________________________________\n",
      "block12_sepconv1_act (Activatio (None, 19, 19, 728)  0           add_9[0][0]                      \n",
      "__________________________________________________________________________________________________\n",
      "block12_sepconv1 (SeparableConv (None, 19, 19, 728)  536536      block12_sepconv1_act[0][0]       \n",
      "__________________________________________________________________________________________________\n",
      "block12_sepconv1_bn (BatchNorma (None, 19, 19, 728)  2912        block12_sepconv1[0][0]           \n",
      "__________________________________________________________________________________________________\n",
      "block12_sepconv2_act (Activatio (None, 19, 19, 728)  0           block12_sepconv1_bn[0][0]        \n",
      "__________________________________________________________________________________________________\n",
      "block12_sepconv2 (SeparableConv (None, 19, 19, 728)  536536      block12_sepconv2_act[0][0]       \n",
      "__________________________________________________________________________________________________\n",
      "block12_sepconv2_bn (BatchNorma (None, 19, 19, 728)  2912        block12_sepconv2[0][0]           \n",
      "__________________________________________________________________________________________________\n",
      "block12_sepconv3_act (Activatio (None, 19, 19, 728)  0           block12_sepconv2_bn[0][0]        \n",
      "__________________________________________________________________________________________________\n",
      "block12_sepconv3 (SeparableConv (None, 19, 19, 728)  536536      block12_sepconv3_act[0][0]       \n",
      "__________________________________________________________________________________________________\n",
      "block12_sepconv3_bn (BatchNorma (None, 19, 19, 728)  2912        block12_sepconv3[0][0]           \n",
      "__________________________________________________________________________________________________\n",
      "add_10 (Add)                    (None, 19, 19, 728)  0           block12_sepconv3_bn[0][0]        \n",
      "                                                                 add_9[0][0]                      \n",
      "__________________________________________________________________________________________________\n",
      "block13_sepconv1_act (Activatio (None, 19, 19, 728)  0           add_10[0][0]                     \n",
      "__________________________________________________________________________________________________\n",
      "block13_sepconv1 (SeparableConv (None, 19, 19, 728)  536536      block13_sepconv1_act[0][0]       \n",
      "__________________________________________________________________________________________________\n",
      "block13_sepconv1_bn (BatchNorma (None, 19, 19, 728)  2912        block13_sepconv1[0][0]           \n",
      "__________________________________________________________________________________________________\n",
      "block13_sepconv2_act (Activatio (None, 19, 19, 728)  0           block13_sepconv1_bn[0][0]        \n",
      "__________________________________________________________________________________________________\n",
      "block13_sepconv2 (SeparableConv (None, 19, 19, 1024) 752024      block13_sepconv2_act[0][0]       \n",
      "__________________________________________________________________________________________________\n",
      "block13_sepconv2_bn (BatchNorma (None, 19, 19, 1024) 4096        block13_sepconv2[0][0]           \n",
      "__________________________________________________________________________________________________\n",
      "conv2d_3 (Conv2D)               (None, 10, 10, 1024) 745472      add_10[0][0]                     \n",
      "__________________________________________________________________________________________________\n",
      "block13_pool (MaxPooling2D)     (None, 10, 10, 1024) 0           block13_sepconv2_bn[0][0]        \n",
      "__________________________________________________________________________________________________\n",
      "batch_normalization_3 (BatchNor (None, 10, 10, 1024) 4096        conv2d_3[0][0]                   \n",
      "__________________________________________________________________________________________________\n",
      "add_11 (Add)                    (None, 10, 10, 1024) 0           block13_pool[0][0]               \n",
      "                                                                 batch_normalization_3[0][0]      \n",
      "__________________________________________________________________________________________________\n",
      "block14_sepconv1 (SeparableConv (None, 10, 10, 1536) 1582080     add_11[0][0]                     \n",
      "__________________________________________________________________________________________________\n",
      "block14_sepconv1_bn (BatchNorma (None, 10, 10, 1536) 6144        block14_sepconv1[0][0]           \n",
      "__________________________________________________________________________________________________\n",
      "block14_sepconv1_act (Activatio (None, 10, 10, 1536) 0           block14_sepconv1_bn[0][0]        \n",
      "__________________________________________________________________________________________________\n",
      "block14_sepconv2 (SeparableConv (None, 10, 10, 2048) 3159552     block14_sepconv1_act[0][0]       \n",
      "__________________________________________________________________________________________________\n",
      "block14_sepconv2_bn (BatchNorma (None, 10, 10, 2048) 8192        block14_sepconv2[0][0]           \n",
      "__________________________________________________________________________________________________\n",
      "block14_sepconv2_act (Activatio (None, 10, 10, 2048) 0           block14_sepconv2_bn[0][0]        \n",
      "__________________________________________________________________________________________________\n",
      "global_average_pooling2d (Globa (None, 2048)         0           block14_sepconv2_act[0][0]       \n",
      "__________________________________________________________________________________________________\n",
      "dropout (Dropout)               (None, 2048)         0           global_average_pooling2d[0][0]   \n",
      "__________________________________________________________________________________________________\n",
      "dense (Dense)                   (None, 1)            2049        dropout[0][0]                    \n",
      "==================================================================================================\n",
      "Total params: 20,863,529\n",
      "Trainable params: 2,049\n",
      "Non-trainable params: 20,861,480\n",
      "__________________________________________________________________________________________________\n"
     ]
    }
   ],
   "source": [
    "# build model\n",
    "base_model = keras.applications.xception.Xception(weights=\"imagenet\",\n",
    "                                                  include_top=False,\n",
    "                                                  input_shape=(IMAGE_HEIGHT, IMAGE_WIDTH, IMAGE_CHANNEL))\n",
    "\n",
    "# create new model on top of Xception model\n",
    "avg = keras.layers.GlobalAveragePooling2D()(base_model.output)\n",
    "drop = keras.layers.Dropout(0.2)(avg)\n",
    "output = keras.layers.Dense(1, activation=\"sigmoid\")(drop)\n",
    "\n",
    "model = keras.models.Model(inputs=base_model.input, outputs=output)\n",
    "\n",
    "# freeze layers\n",
    "for layer in base_model.layers:\n",
    "    layer.trainable = False\n",
    "    \n",
    "model.summary()"
   ]
  },
  {
   "cell_type": "code",
   "execution_count": 10,
   "id": "9bf68798",
   "metadata": {
    "execution": {
     "iopub.execute_input": "2022-03-29T21:52:47.888134Z",
     "iopub.status.busy": "2022-03-29T21:52:47.886448Z",
     "iopub.status.idle": "2022-03-29T23:33:12.894030Z",
     "shell.execute_reply": "2022-03-29T23:33:12.895828Z"
    },
    "id": "qqDSeZ7V7MDV",
    "outputId": "e4b44531-5e40-4689-dd2f-559e1dba09ec",
    "papermill": {
     "duration": 6025.053861,
     "end_time": "2022-03-29T23:33:12.896126",
     "exception": false,
     "start_time": "2022-03-29T21:52:47.842265",
     "status": "completed"
    },
    "tags": []
   },
   "outputs": [
    {
     "name": "stderr",
     "output_type": "stream",
     "text": [
      "2022-03-29 21:52:48.378943: I tensorflow/compiler/mlir/mlir_graph_optimization_pass.cc:185] None of the MLIR Optimization Passes are enabled (registered 2)\n"
     ]
    },
    {
     "name": "stdout",
     "output_type": "stream",
     "text": [
      "Epoch 1/10\n"
     ]
    },
    {
     "name": "stderr",
     "output_type": "stream",
     "text": [
      "2022-03-29 21:52:52.951610: I tensorflow/stream_executor/cuda/cuda_dnn.cc:369] Loaded cuDNN version 8005\n"
     ]
    },
    {
     "name": "stdout",
     "output_type": "stream",
     "text": [
      "1250/1250 [==============================] - 571s 449ms/step - loss: 0.1560 - binary_accuracy: 0.9577 - val_loss: 0.0452 - val_binary_accuracy: 0.9900\n",
      "Epoch 2/10\n",
      "1250/1250 [==============================] - 564s 451ms/step - loss: 0.0891 - binary_accuracy: 0.9682 - val_loss: 0.0327 - val_binary_accuracy: 0.9916\n",
      "Epoch 3/10\n",
      "1250/1250 [==============================] - 572s 457ms/step - loss: 0.0764 - binary_accuracy: 0.9725 - val_loss: 0.0296 - val_binary_accuracy: 0.9914\n",
      "Epoch 4/10\n",
      "1250/1250 [==============================] - 575s 460ms/step - loss: 0.0738 - binary_accuracy: 0.9722 - val_loss: 0.0283 - val_binary_accuracy: 0.9908\n",
      "Epoch 5/10\n",
      "1250/1250 [==============================] - 579s 463ms/step - loss: 0.0737 - binary_accuracy: 0.9713 - val_loss: 0.0288 - val_binary_accuracy: 0.9902\n",
      "Epoch 6/10\n",
      "1250/1250 [==============================] - 594s 475ms/step - loss: 0.0725 - binary_accuracy: 0.9723 - val_loss: 0.0273 - val_binary_accuracy: 0.9908\n",
      "Epoch 7/10\n",
      "1250/1250 [==============================] - 592s 473ms/step - loss: 0.0695 - binary_accuracy: 0.9744 - val_loss: 0.0265 - val_binary_accuracy: 0.9910\n",
      "Epoch 8/10\n",
      "1250/1250 [==============================] - 583s 466ms/step - loss: 0.0712 - binary_accuracy: 0.9722 - val_loss: 0.0251 - val_binary_accuracy: 0.9928\n",
      "Epoch 9/10\n",
      "1250/1250 [==============================] - 580s 464ms/step - loss: 0.0672 - binary_accuracy: 0.9747 - val_loss: 0.0252 - val_binary_accuracy: 0.9918\n",
      "Epoch 10/10\n",
      "1250/1250 [==============================] - 581s 465ms/step - loss: 0.0690 - binary_accuracy: 0.9725 - val_loss: 0.0241 - val_binary_accuracy: 0.9930\n"
     ]
    },
    {
     "data": {
      "text/plain": [
       "<keras.callbacks.History at 0x7f4229663b90>"
      ]
     },
     "execution_count": 10,
     "metadata": {},
     "output_type": "execute_result"
    }
   ],
   "source": [
    "# compile and fit model\n",
    "\n",
    "optimizer = keras.optimizers.Adamax(learning_rate=0.001, beta_1=0.9, beta_2=0.999, epsilon=1e-07, name=\"Adamax\")\n",
    "model.compile(loss='binary_crossentropy', \n",
    "              optimizer=optimizer, \n",
    "              metrics=[keras.metrics.BinaryAccuracy()])\n",
    "model.fit(train_generator, \n",
    "          epochs=10, \n",
    "          steps_per_epoch=train_df.shape[0]//batch_size,\n",
    "          validation_data=validate_generator,\n",
    "          validation_steps=validate_df.shape[0]//batch_size)"
   ]
  },
  {
   "cell_type": "code",
   "execution_count": 11,
   "id": "a95f610f",
   "metadata": {
    "execution": {
     "iopub.execute_input": "2022-03-29T23:33:23.241897Z",
     "iopub.status.busy": "2022-03-29T23:33:23.236752Z",
     "iopub.status.idle": "2022-03-29T23:33:23.350395Z",
     "shell.execute_reply": "2022-03-29T23:33:23.352118Z",
     "shell.execute_reply.started": "2022-03-29T20:01:17.315157Z"
    },
    "id": "gewC1-Wi7P_Z",
    "papermill": {
     "duration": 5.21038,
     "end_time": "2022-03-29T23:33:23.352810",
     "exception": false,
     "start_time": "2022-03-29T23:33:18.142430",
     "status": "completed"
    },
    "tags": []
   },
   "outputs": [
    {
     "name": "stdout",
     "output_type": "stream",
     "text": [
      "Model: \"model\"\n",
      "__________________________________________________________________________________________________\n",
      "Layer (type)                    Output Shape         Param #     Connected to                     \n",
      "==================================================================================================\n",
      "input_1 (InputLayer)            [(None, 299, 299, 3) 0                                            \n",
      "__________________________________________________________________________________________________\n",
      "block1_conv1 (Conv2D)           (None, 149, 149, 32) 864         input_1[0][0]                    \n",
      "__________________________________________________________________________________________________\n",
      "block1_conv1_bn (BatchNormaliza (None, 149, 149, 32) 128         block1_conv1[0][0]               \n",
      "__________________________________________________________________________________________________\n",
      "block1_conv1_act (Activation)   (None, 149, 149, 32) 0           block1_conv1_bn[0][0]            \n",
      "__________________________________________________________________________________________________\n",
      "block1_conv2 (Conv2D)           (None, 147, 147, 64) 18432       block1_conv1_act[0][0]           \n",
      "__________________________________________________________________________________________________\n",
      "block1_conv2_bn (BatchNormaliza (None, 147, 147, 64) 256         block1_conv2[0][0]               \n",
      "__________________________________________________________________________________________________\n",
      "block1_conv2_act (Activation)   (None, 147, 147, 64) 0           block1_conv2_bn[0][0]            \n",
      "__________________________________________________________________________________________________\n",
      "block2_sepconv1 (SeparableConv2 (None, 147, 147, 128 8768        block1_conv2_act[0][0]           \n",
      "__________________________________________________________________________________________________\n",
      "block2_sepconv1_bn (BatchNormal (None, 147, 147, 128 512         block2_sepconv1[0][0]            \n",
      "__________________________________________________________________________________________________\n",
      "block2_sepconv2_act (Activation (None, 147, 147, 128 0           block2_sepconv1_bn[0][0]         \n",
      "__________________________________________________________________________________________________\n",
      "block2_sepconv2 (SeparableConv2 (None, 147, 147, 128 17536       block2_sepconv2_act[0][0]        \n",
      "__________________________________________________________________________________________________\n",
      "block2_sepconv2_bn (BatchNormal (None, 147, 147, 128 512         block2_sepconv2[0][0]            \n",
      "__________________________________________________________________________________________________\n",
      "conv2d (Conv2D)                 (None, 74, 74, 128)  8192        block1_conv2_act[0][0]           \n",
      "__________________________________________________________________________________________________\n",
      "block2_pool (MaxPooling2D)      (None, 74, 74, 128)  0           block2_sepconv2_bn[0][0]         \n",
      "__________________________________________________________________________________________________\n",
      "batch_normalization (BatchNorma (None, 74, 74, 128)  512         conv2d[0][0]                     \n",
      "__________________________________________________________________________________________________\n",
      "add (Add)                       (None, 74, 74, 128)  0           block2_pool[0][0]                \n",
      "                                                                 batch_normalization[0][0]        \n",
      "__________________________________________________________________________________________________\n",
      "block3_sepconv1_act (Activation (None, 74, 74, 128)  0           add[0][0]                        \n",
      "__________________________________________________________________________________________________\n",
      "block3_sepconv1 (SeparableConv2 (None, 74, 74, 256)  33920       block3_sepconv1_act[0][0]        \n",
      "__________________________________________________________________________________________________\n",
      "block3_sepconv1_bn (BatchNormal (None, 74, 74, 256)  1024        block3_sepconv1[0][0]            \n",
      "__________________________________________________________________________________________________\n",
      "block3_sepconv2_act (Activation (None, 74, 74, 256)  0           block3_sepconv1_bn[0][0]         \n",
      "__________________________________________________________________________________________________\n",
      "block3_sepconv2 (SeparableConv2 (None, 74, 74, 256)  67840       block3_sepconv2_act[0][0]        \n",
      "__________________________________________________________________________________________________\n",
      "block3_sepconv2_bn (BatchNormal (None, 74, 74, 256)  1024        block3_sepconv2[0][0]            \n",
      "__________________________________________________________________________________________________\n",
      "conv2d_1 (Conv2D)               (None, 37, 37, 256)  32768       add[0][0]                        \n",
      "__________________________________________________________________________________________________\n",
      "block3_pool (MaxPooling2D)      (None, 37, 37, 256)  0           block3_sepconv2_bn[0][0]         \n",
      "__________________________________________________________________________________________________\n",
      "batch_normalization_1 (BatchNor (None, 37, 37, 256)  1024        conv2d_1[0][0]                   \n",
      "__________________________________________________________________________________________________\n",
      "add_1 (Add)                     (None, 37, 37, 256)  0           block3_pool[0][0]                \n",
      "                                                                 batch_normalization_1[0][0]      \n",
      "__________________________________________________________________________________________________\n",
      "block4_sepconv1_act (Activation (None, 37, 37, 256)  0           add_1[0][0]                      \n",
      "__________________________________________________________________________________________________\n",
      "block4_sepconv1 (SeparableConv2 (None, 37, 37, 728)  188672      block4_sepconv1_act[0][0]        \n",
      "__________________________________________________________________________________________________\n",
      "block4_sepconv1_bn (BatchNormal (None, 37, 37, 728)  2912        block4_sepconv1[0][0]            \n",
      "__________________________________________________________________________________________________\n",
      "block4_sepconv2_act (Activation (None, 37, 37, 728)  0           block4_sepconv1_bn[0][0]         \n",
      "__________________________________________________________________________________________________\n",
      "block4_sepconv2 (SeparableConv2 (None, 37, 37, 728)  536536      block4_sepconv2_act[0][0]        \n",
      "__________________________________________________________________________________________________\n",
      "block4_sepconv2_bn (BatchNormal (None, 37, 37, 728)  2912        block4_sepconv2[0][0]            \n",
      "__________________________________________________________________________________________________\n",
      "conv2d_2 (Conv2D)               (None, 19, 19, 728)  186368      add_1[0][0]                      \n",
      "__________________________________________________________________________________________________\n",
      "block4_pool (MaxPooling2D)      (None, 19, 19, 728)  0           block4_sepconv2_bn[0][0]         \n",
      "__________________________________________________________________________________________________\n",
      "batch_normalization_2 (BatchNor (None, 19, 19, 728)  2912        conv2d_2[0][0]                   \n",
      "__________________________________________________________________________________________________\n",
      "add_2 (Add)                     (None, 19, 19, 728)  0           block4_pool[0][0]                \n",
      "                                                                 batch_normalization_2[0][0]      \n",
      "__________________________________________________________________________________________________\n",
      "block5_sepconv1_act (Activation (None, 19, 19, 728)  0           add_2[0][0]                      \n",
      "__________________________________________________________________________________________________\n",
      "block5_sepconv1 (SeparableConv2 (None, 19, 19, 728)  536536      block5_sepconv1_act[0][0]        \n",
      "__________________________________________________________________________________________________\n",
      "block5_sepconv1_bn (BatchNormal (None, 19, 19, 728)  2912        block5_sepconv1[0][0]            \n",
      "__________________________________________________________________________________________________\n",
      "block5_sepconv2_act (Activation (None, 19, 19, 728)  0           block5_sepconv1_bn[0][0]         \n",
      "__________________________________________________________________________________________________\n",
      "block5_sepconv2 (SeparableConv2 (None, 19, 19, 728)  536536      block5_sepconv2_act[0][0]        \n",
      "__________________________________________________________________________________________________\n",
      "block5_sepconv2_bn (BatchNormal (None, 19, 19, 728)  2912        block5_sepconv2[0][0]            \n",
      "__________________________________________________________________________________________________\n",
      "block5_sepconv3_act (Activation (None, 19, 19, 728)  0           block5_sepconv2_bn[0][0]         \n",
      "__________________________________________________________________________________________________\n",
      "block5_sepconv3 (SeparableConv2 (None, 19, 19, 728)  536536      block5_sepconv3_act[0][0]        \n",
      "__________________________________________________________________________________________________\n",
      "block5_sepconv3_bn (BatchNormal (None, 19, 19, 728)  2912        block5_sepconv3[0][0]            \n",
      "__________________________________________________________________________________________________\n",
      "add_3 (Add)                     (None, 19, 19, 728)  0           block5_sepconv3_bn[0][0]         \n",
      "                                                                 add_2[0][0]                      \n",
      "__________________________________________________________________________________________________\n",
      "block6_sepconv1_act (Activation (None, 19, 19, 728)  0           add_3[0][0]                      \n",
      "__________________________________________________________________________________________________\n",
      "block6_sepconv1 (SeparableConv2 (None, 19, 19, 728)  536536      block6_sepconv1_act[0][0]        \n",
      "__________________________________________________________________________________________________\n",
      "block6_sepconv1_bn (BatchNormal (None, 19, 19, 728)  2912        block6_sepconv1[0][0]            \n",
      "__________________________________________________________________________________________________\n",
      "block6_sepconv2_act (Activation (None, 19, 19, 728)  0           block6_sepconv1_bn[0][0]         \n",
      "__________________________________________________________________________________________________\n",
      "block6_sepconv2 (SeparableConv2 (None, 19, 19, 728)  536536      block6_sepconv2_act[0][0]        \n",
      "__________________________________________________________________________________________________\n",
      "block6_sepconv2_bn (BatchNormal (None, 19, 19, 728)  2912        block6_sepconv2[0][0]            \n",
      "__________________________________________________________________________________________________\n",
      "block6_sepconv3_act (Activation (None, 19, 19, 728)  0           block6_sepconv2_bn[0][0]         \n",
      "__________________________________________________________________________________________________\n",
      "block6_sepconv3 (SeparableConv2 (None, 19, 19, 728)  536536      block6_sepconv3_act[0][0]        \n",
      "__________________________________________________________________________________________________\n",
      "block6_sepconv3_bn (BatchNormal (None, 19, 19, 728)  2912        block6_sepconv3[0][0]            \n",
      "__________________________________________________________________________________________________\n",
      "add_4 (Add)                     (None, 19, 19, 728)  0           block6_sepconv3_bn[0][0]         \n",
      "                                                                 add_3[0][0]                      \n",
      "__________________________________________________________________________________________________\n",
      "block7_sepconv1_act (Activation (None, 19, 19, 728)  0           add_4[0][0]                      \n",
      "__________________________________________________________________________________________________\n",
      "block7_sepconv1 (SeparableConv2 (None, 19, 19, 728)  536536      block7_sepconv1_act[0][0]        \n",
      "__________________________________________________________________________________________________\n",
      "block7_sepconv1_bn (BatchNormal (None, 19, 19, 728)  2912        block7_sepconv1[0][0]            \n",
      "__________________________________________________________________________________________________\n",
      "block7_sepconv2_act (Activation (None, 19, 19, 728)  0           block7_sepconv1_bn[0][0]         \n",
      "__________________________________________________________________________________________________\n",
      "block7_sepconv2 (SeparableConv2 (None, 19, 19, 728)  536536      block7_sepconv2_act[0][0]        \n",
      "__________________________________________________________________________________________________\n",
      "block7_sepconv2_bn (BatchNormal (None, 19, 19, 728)  2912        block7_sepconv2[0][0]            \n",
      "__________________________________________________________________________________________________\n",
      "block7_sepconv3_act (Activation (None, 19, 19, 728)  0           block7_sepconv2_bn[0][0]         \n",
      "__________________________________________________________________________________________________\n",
      "block7_sepconv3 (SeparableConv2 (None, 19, 19, 728)  536536      block7_sepconv3_act[0][0]        \n",
      "__________________________________________________________________________________________________\n",
      "block7_sepconv3_bn (BatchNormal (None, 19, 19, 728)  2912        block7_sepconv3[0][0]            \n",
      "__________________________________________________________________________________________________\n",
      "add_5 (Add)                     (None, 19, 19, 728)  0           block7_sepconv3_bn[0][0]         \n",
      "                                                                 add_4[0][0]                      \n",
      "__________________________________________________________________________________________________\n",
      "block8_sepconv1_act (Activation (None, 19, 19, 728)  0           add_5[0][0]                      \n",
      "__________________________________________________________________________________________________\n",
      "block8_sepconv1 (SeparableConv2 (None, 19, 19, 728)  536536      block8_sepconv1_act[0][0]        \n",
      "__________________________________________________________________________________________________\n",
      "block8_sepconv1_bn (BatchNormal (None, 19, 19, 728)  2912        block8_sepconv1[0][0]            \n",
      "__________________________________________________________________________________________________\n",
      "block8_sepconv2_act (Activation (None, 19, 19, 728)  0           block8_sepconv1_bn[0][0]         \n",
      "__________________________________________________________________________________________________\n",
      "block8_sepconv2 (SeparableConv2 (None, 19, 19, 728)  536536      block8_sepconv2_act[0][0]        \n",
      "__________________________________________________________________________________________________\n",
      "block8_sepconv2_bn (BatchNormal (None, 19, 19, 728)  2912        block8_sepconv2[0][0]            \n",
      "__________________________________________________________________________________________________\n",
      "block8_sepconv3_act (Activation (None, 19, 19, 728)  0           block8_sepconv2_bn[0][0]         \n",
      "__________________________________________________________________________________________________\n",
      "block8_sepconv3 (SeparableConv2 (None, 19, 19, 728)  536536      block8_sepconv3_act[0][0]        \n",
      "__________________________________________________________________________________________________\n",
      "block8_sepconv3_bn (BatchNormal (None, 19, 19, 728)  2912        block8_sepconv3[0][0]            \n",
      "__________________________________________________________________________________________________\n",
      "add_6 (Add)                     (None, 19, 19, 728)  0           block8_sepconv3_bn[0][0]         \n",
      "                                                                 add_5[0][0]                      \n",
      "__________________________________________________________________________________________________\n",
      "block9_sepconv1_act (Activation (None, 19, 19, 728)  0           add_6[0][0]                      \n",
      "__________________________________________________________________________________________________\n",
      "block9_sepconv1 (SeparableConv2 (None, 19, 19, 728)  536536      block9_sepconv1_act[0][0]        \n",
      "__________________________________________________________________________________________________\n",
      "block9_sepconv1_bn (BatchNormal (None, 19, 19, 728)  2912        block9_sepconv1[0][0]            \n",
      "__________________________________________________________________________________________________\n",
      "block9_sepconv2_act (Activation (None, 19, 19, 728)  0           block9_sepconv1_bn[0][0]         \n",
      "__________________________________________________________________________________________________\n",
      "block9_sepconv2 (SeparableConv2 (None, 19, 19, 728)  536536      block9_sepconv2_act[0][0]        \n",
      "__________________________________________________________________________________________________\n",
      "block9_sepconv2_bn (BatchNormal (None, 19, 19, 728)  2912        block9_sepconv2[0][0]            \n",
      "__________________________________________________________________________________________________\n",
      "block9_sepconv3_act (Activation (None, 19, 19, 728)  0           block9_sepconv2_bn[0][0]         \n",
      "__________________________________________________________________________________________________\n",
      "block9_sepconv3 (SeparableConv2 (None, 19, 19, 728)  536536      block9_sepconv3_act[0][0]        \n",
      "__________________________________________________________________________________________________\n",
      "block9_sepconv3_bn (BatchNormal (None, 19, 19, 728)  2912        block9_sepconv3[0][0]            \n",
      "__________________________________________________________________________________________________\n",
      "add_7 (Add)                     (None, 19, 19, 728)  0           block9_sepconv3_bn[0][0]         \n",
      "                                                                 add_6[0][0]                      \n",
      "__________________________________________________________________________________________________\n",
      "block10_sepconv1_act (Activatio (None, 19, 19, 728)  0           add_7[0][0]                      \n",
      "__________________________________________________________________________________________________\n",
      "block10_sepconv1 (SeparableConv (None, 19, 19, 728)  536536      block10_sepconv1_act[0][0]       \n",
      "__________________________________________________________________________________________________\n",
      "block10_sepconv1_bn (BatchNorma (None, 19, 19, 728)  2912        block10_sepconv1[0][0]           \n",
      "__________________________________________________________________________________________________\n",
      "block10_sepconv2_act (Activatio (None, 19, 19, 728)  0           block10_sepconv1_bn[0][0]        \n",
      "__________________________________________________________________________________________________\n",
      "block10_sepconv2 (SeparableConv (None, 19, 19, 728)  536536      block10_sepconv2_act[0][0]       \n",
      "__________________________________________________________________________________________________\n",
      "block10_sepconv2_bn (BatchNorma (None, 19, 19, 728)  2912        block10_sepconv2[0][0]           \n",
      "__________________________________________________________________________________________________\n",
      "block10_sepconv3_act (Activatio (None, 19, 19, 728)  0           block10_sepconv2_bn[0][0]        \n",
      "__________________________________________________________________________________________________\n",
      "block10_sepconv3 (SeparableConv (None, 19, 19, 728)  536536      block10_sepconv3_act[0][0]       \n",
      "__________________________________________________________________________________________________\n",
      "block10_sepconv3_bn (BatchNorma (None, 19, 19, 728)  2912        block10_sepconv3[0][0]           \n",
      "__________________________________________________________________________________________________\n",
      "add_8 (Add)                     (None, 19, 19, 728)  0           block10_sepconv3_bn[0][0]        \n",
      "                                                                 add_7[0][0]                      \n",
      "__________________________________________________________________________________________________\n",
      "block11_sepconv1_act (Activatio (None, 19, 19, 728)  0           add_8[0][0]                      \n",
      "__________________________________________________________________________________________________\n",
      "block11_sepconv1 (SeparableConv (None, 19, 19, 728)  536536      block11_sepconv1_act[0][0]       \n",
      "__________________________________________________________________________________________________\n",
      "block11_sepconv1_bn (BatchNorma (None, 19, 19, 728)  2912        block11_sepconv1[0][0]           \n",
      "__________________________________________________________________________________________________\n",
      "block11_sepconv2_act (Activatio (None, 19, 19, 728)  0           block11_sepconv1_bn[0][0]        \n",
      "__________________________________________________________________________________________________\n",
      "block11_sepconv2 (SeparableConv (None, 19, 19, 728)  536536      block11_sepconv2_act[0][0]       \n",
      "__________________________________________________________________________________________________\n",
      "block11_sepconv2_bn (BatchNorma (None, 19, 19, 728)  2912        block11_sepconv2[0][0]           \n",
      "__________________________________________________________________________________________________\n",
      "block11_sepconv3_act (Activatio (None, 19, 19, 728)  0           block11_sepconv2_bn[0][0]        \n",
      "__________________________________________________________________________________________________\n",
      "block11_sepconv3 (SeparableConv (None, 19, 19, 728)  536536      block11_sepconv3_act[0][0]       \n",
      "__________________________________________________________________________________________________\n",
      "block11_sepconv3_bn (BatchNorma (None, 19, 19, 728)  2912        block11_sepconv3[0][0]           \n",
      "__________________________________________________________________________________________________\n",
      "add_9 (Add)                     (None, 19, 19, 728)  0           block11_sepconv3_bn[0][0]        \n",
      "                                                                 add_8[0][0]                      \n",
      "__________________________________________________________________________________________________\n",
      "block12_sepconv1_act (Activatio (None, 19, 19, 728)  0           add_9[0][0]                      \n",
      "__________________________________________________________________________________________________\n",
      "block12_sepconv1 (SeparableConv (None, 19, 19, 728)  536536      block12_sepconv1_act[0][0]       \n",
      "__________________________________________________________________________________________________\n",
      "block12_sepconv1_bn (BatchNorma (None, 19, 19, 728)  2912        block12_sepconv1[0][0]           \n",
      "__________________________________________________________________________________________________\n",
      "block12_sepconv2_act (Activatio (None, 19, 19, 728)  0           block12_sepconv1_bn[0][0]        \n",
      "__________________________________________________________________________________________________\n",
      "block12_sepconv2 (SeparableConv (None, 19, 19, 728)  536536      block12_sepconv2_act[0][0]       \n",
      "__________________________________________________________________________________________________\n",
      "block12_sepconv2_bn (BatchNorma (None, 19, 19, 728)  2912        block12_sepconv2[0][0]           \n",
      "__________________________________________________________________________________________________\n",
      "block12_sepconv3_act (Activatio (None, 19, 19, 728)  0           block12_sepconv2_bn[0][0]        \n",
      "__________________________________________________________________________________________________\n",
      "block12_sepconv3 (SeparableConv (None, 19, 19, 728)  536536      block12_sepconv3_act[0][0]       \n",
      "__________________________________________________________________________________________________\n",
      "block12_sepconv3_bn (BatchNorma (None, 19, 19, 728)  2912        block12_sepconv3[0][0]           \n",
      "__________________________________________________________________________________________________\n",
      "add_10 (Add)                    (None, 19, 19, 728)  0           block12_sepconv3_bn[0][0]        \n",
      "                                                                 add_9[0][0]                      \n",
      "__________________________________________________________________________________________________\n",
      "block13_sepconv1_act (Activatio (None, 19, 19, 728)  0           add_10[0][0]                     \n",
      "__________________________________________________________________________________________________\n",
      "block13_sepconv1 (SeparableConv (None, 19, 19, 728)  536536      block13_sepconv1_act[0][0]       \n",
      "__________________________________________________________________________________________________\n",
      "block13_sepconv1_bn (BatchNorma (None, 19, 19, 728)  2912        block13_sepconv1[0][0]           \n",
      "__________________________________________________________________________________________________\n",
      "block13_sepconv2_act (Activatio (None, 19, 19, 728)  0           block13_sepconv1_bn[0][0]        \n",
      "__________________________________________________________________________________________________\n",
      "block13_sepconv2 (SeparableConv (None, 19, 19, 1024) 752024      block13_sepconv2_act[0][0]       \n",
      "__________________________________________________________________________________________________\n",
      "block13_sepconv2_bn (BatchNorma (None, 19, 19, 1024) 4096        block13_sepconv2[0][0]           \n",
      "__________________________________________________________________________________________________\n",
      "conv2d_3 (Conv2D)               (None, 10, 10, 1024) 745472      add_10[0][0]                     \n",
      "__________________________________________________________________________________________________\n",
      "block13_pool (MaxPooling2D)     (None, 10, 10, 1024) 0           block13_sepconv2_bn[0][0]        \n",
      "__________________________________________________________________________________________________\n",
      "batch_normalization_3 (BatchNor (None, 10, 10, 1024) 4096        conv2d_3[0][0]                   \n",
      "__________________________________________________________________________________________________\n",
      "add_11 (Add)                    (None, 10, 10, 1024) 0           block13_pool[0][0]               \n",
      "                                                                 batch_normalization_3[0][0]      \n",
      "__________________________________________________________________________________________________\n",
      "block14_sepconv1 (SeparableConv (None, 10, 10, 1536) 1582080     add_11[0][0]                     \n",
      "__________________________________________________________________________________________________\n",
      "block14_sepconv1_bn (BatchNorma (None, 10, 10, 1536) 6144        block14_sepconv1[0][0]           \n",
      "__________________________________________________________________________________________________\n",
      "block14_sepconv1_act (Activatio (None, 10, 10, 1536) 0           block14_sepconv1_bn[0][0]        \n",
      "__________________________________________________________________________________________________\n",
      "block14_sepconv2 (SeparableConv (None, 10, 10, 2048) 3159552     block14_sepconv1_act[0][0]       \n",
      "__________________________________________________________________________________________________\n",
      "block14_sepconv2_bn (BatchNorma (None, 10, 10, 2048) 8192        block14_sepconv2[0][0]           \n",
      "__________________________________________________________________________________________________\n",
      "block14_sepconv2_act (Activatio (None, 10, 10, 2048) 0           block14_sepconv2_bn[0][0]        \n",
      "__________________________________________________________________________________________________\n",
      "global_average_pooling2d (Globa (None, 2048)         0           block14_sepconv2_act[0][0]       \n",
      "__________________________________________________________________________________________________\n",
      "dropout (Dropout)               (None, 2048)         0           global_average_pooling2d[0][0]   \n",
      "__________________________________________________________________________________________________\n",
      "dense (Dense)                   (None, 1)            2049        dropout[0][0]                    \n",
      "==================================================================================================\n",
      "Total params: 20,863,529\n",
      "Trainable params: 20,809,001\n",
      "Non-trainable params: 54,528\n",
      "__________________________________________________________________________________________________\n"
     ]
    }
   ],
   "source": [
    "# unfreeze layers\n",
    "for layer in base_model.layers:\n",
    "    layer.trainable = True\n",
    "\n",
    "model.summary()"
   ]
  },
  {
   "cell_type": "code",
   "execution_count": 12,
   "id": "21f7560e",
   "metadata": {
    "execution": {
     "iopub.execute_input": "2022-03-29T23:33:34.468943Z",
     "iopub.status.busy": "2022-03-29T23:33:34.467829Z",
     "iopub.status.idle": "2022-03-30T01:39:41.794342Z",
     "shell.execute_reply": "2022-03-30T01:39:41.793798Z"
    },
    "id": "3BIztp617SV4",
    "outputId": "7b6034f8-3671-45f8-d2c4-2fe5c07135ab",
    "papermill": {
     "duration": 7573.042819,
     "end_time": "2022-03-30T01:39:41.794484",
     "exception": false,
     "start_time": "2022-03-29T23:33:28.751665",
     "status": "completed"
    },
    "tags": []
   },
   "outputs": [
    {
     "name": "stdout",
     "output_type": "stream",
     "text": [
      "Epoch 1/10\n",
      "1250/1250 [==============================] - 773s 614ms/step - loss: 0.1678 - binary_accuracy: 0.9359 - val_loss: 0.0386 - val_binary_accuracy: 0.9872\n",
      "Epoch 2/10\n",
      "1250/1250 [==============================] - 767s 614ms/step - loss: 0.1073 - binary_accuracy: 0.9586 - val_loss: 0.0288 - val_binary_accuracy: 0.9908\n",
      "Epoch 3/10\n",
      "1250/1250 [==============================] - 787s 630ms/step - loss: 0.0920 - binary_accuracy: 0.9656 - val_loss: 0.0275 - val_binary_accuracy: 0.9916\n",
      "Epoch 4/10\n",
      "1250/1250 [==============================] - 743s 594ms/step - loss: 0.0915 - binary_accuracy: 0.9663 - val_loss: 0.0250 - val_binary_accuracy: 0.9928\n",
      "Epoch 5/10\n",
      "1250/1250 [==============================] - 730s 584ms/step - loss: 0.0810 - binary_accuracy: 0.9689 - val_loss: 0.0233 - val_binary_accuracy: 0.9930\n",
      "Epoch 6/10\n",
      "1250/1250 [==============================] - 735s 588ms/step - loss: 0.0753 - binary_accuracy: 0.9721 - val_loss: 0.0216 - val_binary_accuracy: 0.9938\n",
      "Epoch 7/10\n",
      "1250/1250 [==============================] - 731s 584ms/step - loss: 0.0659 - binary_accuracy: 0.9758 - val_loss: 0.0203 - val_binary_accuracy: 0.9942\n",
      "Epoch 8/10\n",
      "1250/1250 [==============================] - 731s 585ms/step - loss: 0.0665 - binary_accuracy: 0.9742 - val_loss: 0.0192 - val_binary_accuracy: 0.9942\n",
      "Epoch 9/10\n",
      "1250/1250 [==============================] - 742s 594ms/step - loss: 0.0635 - binary_accuracy: 0.9766 - val_loss: 0.0183 - val_binary_accuracy: 0.9948\n",
      "Epoch 10/10\n",
      "1250/1250 [==============================] - 741s 593ms/step - loss: 0.0614 - binary_accuracy: 0.9776 - val_loss: 0.0184 - val_binary_accuracy: 0.9946\n"
     ]
    },
    {
     "data": {
      "text/plain": [
       "<keras.callbacks.History at 0x7f4210f74750>"
      ]
     },
     "execution_count": 12,
     "metadata": {},
     "output_type": "execute_result"
    }
   ],
   "source": [
    "# compile and fit model\n",
    "optimizer = keras.optimizers.Adamax(learning_rate=1e-5, beta_1=0.9, beta_2=0.999, epsilon=1e-07, name=\"Adamax\")\n",
    "model.compile(loss='binary_crossentropy', \n",
    "              optimizer=optimizer, \n",
    "              metrics=[keras.metrics.BinaryAccuracy()])\n",
    "model.fit(train_generator, \n",
    "          epochs=10, \n",
    "          steps_per_epoch=train_df.shape[0]//batch_size,\n",
    "          validation_data=validate_generator,\n",
    "          validation_steps=validate_df.shape[0]//batch_size)"
   ]
  },
  {
   "cell_type": "markdown",
   "id": "a9fdb0e0",
   "metadata": {
    "id": "SuEGmErVMPUk",
    "papermill": {
     "duration": 10.978818,
     "end_time": "2022-03-30T01:40:02.893652",
     "exception": false,
     "start_time": "2022-03-30T01:39:51.914834",
     "status": "completed"
    },
    "tags": []
   },
   "source": [
    "## Predict on Testing Data"
   ]
  },
  {
   "cell_type": "code",
   "execution_count": 13,
   "id": "ebbe0bdc",
   "metadata": {
    "execution": {
     "iopub.execute_input": "2022-03-30T01:40:23.441997Z",
     "iopub.status.busy": "2022-03-30T01:40:23.441014Z",
     "iopub.status.idle": "2022-03-30T01:40:23.453769Z",
     "shell.execute_reply": "2022-03-30T01:40:23.453161Z"
    },
    "id": "786ee59f",
    "papermill": {
     "duration": 10.343294,
     "end_time": "2022-03-30T01:40:23.453942",
     "exception": false,
     "start_time": "2022-03-30T01:40:13.110648",
     "status": "completed"
    },
    "tags": []
   },
   "outputs": [],
   "source": [
    "# testing\n",
    "test_files = os.listdir(\"./test\")\n",
    "test_df = pd.DataFrame({\n",
    "    'filename': test_files\n",
    "})\n",
    "nb_samples = test_df.shape[0]"
   ]
  },
  {
   "cell_type": "code",
   "execution_count": 14,
   "id": "0e51dc34",
   "metadata": {
    "execution": {
     "iopub.execute_input": "2022-03-30T01:40:44.605968Z",
     "iopub.status.busy": "2022-03-30T01:40:44.595441Z",
     "iopub.status.idle": "2022-03-30T01:40:44.701385Z",
     "shell.execute_reply": "2022-03-30T01:40:44.702228Z"
    },
    "id": "C0e3aGRAMTmf",
    "papermill": {
     "duration": 10.270284,
     "end_time": "2022-03-30T01:40:44.702494",
     "exception": false,
     "start_time": "2022-03-30T01:40:34.432210",
     "status": "completed"
    },
    "tags": []
   },
   "outputs": [
    {
     "name": "stdout",
     "output_type": "stream",
     "text": [
      "Found 12500 validated image filenames.\n"
     ]
    }
   ],
   "source": [
    "test_datagen = ImageDataGenerator(preprocessing_function=preprocess_function)\n",
    "test_generator =  test_datagen.flow_from_dataframe(\n",
    "    test_df,\n",
    "    \"./test\",\n",
    "    x_col='filename',\n",
    "    y_col=None,\n",
    "    class_mode=None,\n",
    "    target_size=(IMAGE_HEIGHT, IMAGE_WIDTH),\n",
    "    batch_size=batch_size,\n",
    "    shuffle=False\n",
    ")"
   ]
  },
  {
   "cell_type": "code",
   "execution_count": 15,
   "id": "2c809c70",
   "metadata": {
    "execution": {
     "iopub.execute_input": "2022-03-30T01:41:05.373659Z",
     "iopub.status.busy": "2022-03-30T01:41:05.372130Z",
     "iopub.status.idle": "2022-03-30T01:42:01.579993Z",
     "shell.execute_reply": "2022-03-30T01:42:01.579108Z"
    },
    "id": "kMdYY3TeMgDo",
    "papermill": {
     "duration": 66.55016,
     "end_time": "2022-03-30T01:42:01.580165",
     "exception": false,
     "start_time": "2022-03-30T01:40:55.030005",
     "status": "completed"
    },
    "tags": []
   },
   "outputs": [],
   "source": [
    "predict = model.predict(test_generator, steps=np.ceil(nb_samples/batch_size))"
   ]
  },
  {
   "cell_type": "code",
   "execution_count": 16,
   "id": "6453c00e",
   "metadata": {
    "execution": {
     "iopub.execute_input": "2022-03-30T01:42:22.716329Z",
     "iopub.status.busy": "2022-03-30T01:42:22.705324Z",
     "iopub.status.idle": "2022-03-30T01:42:22.720236Z",
     "shell.execute_reply": "2022-03-30T01:42:22.720732Z"
    },
    "id": "fqdQ_PjxdBfM",
    "papermill": {
     "duration": 10.508435,
     "end_time": "2022-03-30T01:42:22.720920",
     "exception": false,
     "start_time": "2022-03-30T01:42:12.212485",
     "status": "completed"
    },
    "tags": []
   },
   "outputs": [],
   "source": [
    "id = test_df['filename'].apply(lambda x: int(x.split('.')[0]))"
   ]
  },
  {
   "cell_type": "code",
   "execution_count": 17,
   "id": "1de6f690",
   "metadata": {
    "execution": {
     "iopub.execute_input": "2022-03-30T01:42:42.921748Z",
     "iopub.status.busy": "2022-03-30T01:42:42.920875Z",
     "iopub.status.idle": "2022-03-30T01:42:42.927017Z",
     "shell.execute_reply": "2022-03-30T01:42:42.927537Z"
    },
    "id": "S45EY-CcMi49",
    "papermill": {
     "duration": 10.039809,
     "end_time": "2022-03-30T01:42:42.927754",
     "exception": false,
     "start_time": "2022-03-30T01:42:32.887945",
     "status": "completed"
    },
    "tags": []
   },
   "outputs": [],
   "source": [
    "# prepare for submission\n",
    "submission = pd.DataFrame({'id':list(id),'label':predict[:,0]}).sort_values(by='id').reset_index(drop=True)"
   ]
  },
  {
   "cell_type": "code",
   "execution_count": 18,
   "id": "3a67139f",
   "metadata": {
    "execution": {
     "iopub.execute_input": "2022-03-30T01:43:03.717290Z",
     "iopub.status.busy": "2022-03-30T01:43:03.716098Z",
     "iopub.status.idle": "2022-03-30T01:43:03.755839Z",
     "shell.execute_reply": "2022-03-30T01:43:03.755199Z"
    },
    "id": "4iiwtoyofRf9",
    "papermill": {
     "duration": 10.198218,
     "end_time": "2022-03-30T01:43:03.756002",
     "exception": false,
     "start_time": "2022-03-30T01:42:53.557784",
     "status": "completed"
    },
    "tags": []
   },
   "outputs": [],
   "source": [
    "submission.to_csv(\"MSBA_Session1_LydiaSavatsky.csv\",index=False)"
   ]
  }
 ],
 "metadata": {
  "kernelspec": {
   "display_name": "Python 3",
   "language": "python",
   "name": "python3"
  },
  "language_info": {
   "codemirror_mode": {
    "name": "ipython",
    "version": 3
   },
   "file_extension": ".py",
   "mimetype": "text/x-python",
   "name": "python",
   "nbconvert_exporter": "python",
   "pygments_lexer": "ipython3",
   "version": "3.8.8"
  },
  "papermill": {
   "default_parameters": {},
   "duration": 16021.245597,
   "end_time": "2022-03-31T01:06:46.044487",
   "environment_variables": {},
   "exception": null,
   "input_path": "__notebook__.ipynb",
   "output_path": "__notebook__.ipynb",
   "parameters": {},
   "start_time": "2022-03-30T20:39:44.798890",
   "version": "2.3.3"
  }
 },
 "nbformat": 4,
 "nbformat_minor": 5
}
